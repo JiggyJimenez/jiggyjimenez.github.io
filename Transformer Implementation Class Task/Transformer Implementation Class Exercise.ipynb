{
 "cells": [
  {
   "cell_type": "markdown",
   "id": "72885e03",
   "metadata": {},
   "source": [
    "# Assignment 3 - Transformer Implemention with Andrej Karpathy "
   ]
  },
  {
   "cell_type": "markdown",
   "id": "80a752c7",
   "metadata": {},
   "source": [
    "## Instructions"
   ]
  },
  {
   "cell_type": "markdown",
   "id": "67b8bb36",
   "metadata": {},
   "source": [
    "1.\tWatch the following tutorial by Andrej Karpathy (https://twitter.com/karpathy):\n",
    "        a.\thttps://www.youtube.com/watch?v=kCc8FmEb1nY\n",
    "        b.\tAs you are watching, run the code yourself (preferably on a fresh notebook).\n",
    "        c.\tYou can download a copy of his notebook from here:\n",
    "            i.\thttps://colab.research.google.com/drive/1JMLa53HDuA-i7ZBmqV7ZnA3c_fvtXnx-?usp=sharing\n",
    "            ii.\tMake sure you can run this notebook from start to finish!\n",
    "        d.\tYou can also check out a cleaner version of the code here:\n",
    "            i.\thttps://github.com/karpathy/ng-video-lecture"
   ]
  },
  {
   "cell_type": "markdown",
   "id": "a06e6a48",
   "metadata": {},
   "source": [
    "## What is a language model?\n",
    "\n",
    "A language model is an advanced computer program trained on vast amounts of text data. It can understand and generate human language, making it a valuable tool for various applications. By analyzing patterns and relationships in language, it predicts words, completes sentences, and generates coherent text. Language models improve language translation, aid in writing tasks, and power voice assistants and chatbots. They enhance our interactions with technology and enable more efficient communication in the digital age."
   ]
  },
  {
   "cell_type": "markdown",
   "id": "07a91a1d",
   "metadata": {},
   "source": [
    "## Data Description"
   ]
  },
  {
   "cell_type": "code",
   "execution_count": 1,
   "id": "c1e8b7be",
   "metadata": {
    "ExecuteTime": {
     "end_time": "2023-06-10T08:50:57.487801Z",
     "start_time": "2023-06-10T08:50:56.964096Z"
    },
    "scrolled": true
   },
   "outputs": [
    {
     "name": "stdout",
     "output_type": "stream",
     "text": [
      "--2023-06-10 08:50:57--  https://raw.githubusercontent.com/karpathy/char-rnn/master/data/tinyshakespeare/input.txt\n",
      "Resolving raw.githubusercontent.com (raw.githubusercontent.com)... 185.199.110.133, 185.199.111.133, 185.199.109.133, ...\n",
      "Connecting to raw.githubusercontent.com (raw.githubusercontent.com)|185.199.110.133|:443... connected.\n",
      "HTTP request sent, awaiting response... 200 OK\n",
      "Length: 1115394 (1.1M) [text/plain]\n",
      "Saving to: ‘input.txt’\n",
      "\n",
      "input.txt           100%[===================>]   1.06M  --.-KB/s    in 0.02s   \n",
      "\n",
      "2023-06-10 08:50:57 (44.9 MB/s) - ‘input.txt’ saved [1115394/1115394]\n",
      "\n"
     ]
    }
   ],
   "source": [
    "# Fetching dataset from Karpathy's repo\n",
    "\n",
    "!wget https://raw.githubusercontent.com/karpathy/char-rnn/master/data/tinyshakespeare/input.txt"
   ]
  },
  {
   "cell_type": "markdown",
   "id": "94b3e2aa",
   "metadata": {},
   "source": [
    "In this project, we're working with a special dataset that features a handpicked selection of works by none other than the legendary playwright, William Shakespeare. It's like diving into a treasure trove of scripts from various plays and literary masterpieces penned by Shakespeare himself. This dataset holds a special place in the heart of Karpathy, one of the brilliant minds in the field, and it's a popular choice for tackling all sorts of exciting natural language processing (NLP) challenges."
   ]
  },
  {
   "cell_type": "markdown",
   "id": "126bb81c",
   "metadata": {},
   "source": [
    "## Data Pre-processing"
   ]
  },
  {
   "cell_type": "markdown",
   "id": "56e9c2f7",
   "metadata": {
    "ExecuteTime": {
     "end_time": "2023-05-26T15:07:45.196588Z",
     "start_time": "2023-05-26T15:07:45.192140Z"
    }
   },
   "source": [
    "Here's a breakdown of the key steps involved in this process:\n",
    "\n",
    "1. First, we create a sorted list of unique characters, which serves as a reference for our vocabulary. It helps us keep track of all the distinct characters present in our data.\n",
    "\n",
    "2. Next, we determine the size of the vocabulary, which in turn sets the embedding size. This step ensures that our model has the right dimensions to handle the data effectively.\n",
    "\n",
    "3. We create two dictionaries: `stoi` (string to integers) and `itos` (integer to string). These dictionaries establish a mapping between characters and integers, allowing us to easily convert text into numerical representations and vice versa.\n",
    "\n",
    "4. The `encode` and `decode` functions make use of these dictionaries. The `encode` function takes a string as input and converts it into a list of corresponding integers using the `stoi` dictionary. On the other hand, the `decode` function takes a list of integers and converts it back into a string using the `itos` dictionary.\n",
    "\n",
    "5. Finally, we split the dataset into train and test sets based on the length of the encoded data. The training set contains 90% of the data, while the test set contains the remaining 10%. This split allows us to evaluate the performance of our model on unseen data.\n",
    "\n",
    "These steps are essential for setting up the necessary mappings between characters and integers, providing functions for encoding and decoding, and preparing the data for further processing and modeling tasks."
   ]
  },
  {
   "cell_type": "code",
   "execution_count": 3,
   "id": "41c4e446",
   "metadata": {
    "ExecuteTime": {
     "end_time": "2023-06-10T15:17:27.532044Z",
     "start_time": "2023-06-10T15:17:27.517351Z"
    }
   },
   "outputs": [
    {
     "name": "stdout",
     "output_type": "stream",
     "text": [
      "len of dataset in characters: 1115394\n"
     ]
    }
   ],
   "source": [
    "# Loading the content of the file and counting total characters\n",
    "\n",
    "with open('input.txt', 'r', encoding='utf-8') as f: \n",
    "    text = f.read()\n",
    "print(f'len of dataset in characters: {len(text)}')"
   ]
  },
  {
   "cell_type": "code",
   "execution_count": 4,
   "id": "70e39baa",
   "metadata": {
    "ExecuteTime": {
     "end_time": "2023-06-10T15:17:28.212910Z",
     "start_time": "2023-06-10T15:17:28.206143Z"
    }
   },
   "outputs": [
    {
     "name": "stdout",
     "output_type": "stream",
     "text": [
      "First Citizen:\n",
      "Before we proceed any further, hear me speak.\n",
      "\n",
      "All:\n",
      "Speak, speak.\n",
      "\n",
      "First Citizen:\n",
      "You are all resolved rather to die than to famish?\n",
      "\n",
      "All:\n",
      "Resolved. resolved.\n",
      "\n",
      "First Citizen:\n",
      "First, you know Caius Marcius is chief enemy to the people.\n",
      "\n",
      "All:\n",
      "We know't, we know't.\n",
      "\n",
      "First Citizen:\n",
      "Let us kill him, and we'll have corn at our own price.\n",
      "Is't a verdict?\n",
      "\n",
      "All:\n",
      "No more talking on't; let it be done: away, away!\n",
      "\n",
      "Second Citizen:\n",
      "One word, good citizens.\n",
      "\n",
      "First Citizen:\n",
      "We are accounted poor citizens, the patricians good.\n",
      "What authority surfeits on would relieve us: if they\n",
      "would yield us but the superfluity, while it were\n",
      "wholesome, we might guess they relieved us humanely;\n",
      "but they think we are too dear: the leanness that\n",
      "afflicts us, the object of our misery, is as an\n",
      "inventory to particularise their abundance; our\n",
      "sufferance is a gain to them Let us revenge this with\n",
      "our pikes, ere we become rakes: for the gods know I\n",
      "speak this in hunger for bread, not in thirst for revenge.\n",
      "\n",
      "\n"
     ]
    }
   ],
   "source": [
    "# Viewing first 1000 lines of the dataset\n",
    "\n",
    "print(text[:1000])"
   ]
  },
  {
   "cell_type": "code",
   "execution_count": 5,
   "id": "94f1f3f7",
   "metadata": {
    "ExecuteTime": {
     "end_time": "2023-06-10T15:17:28.684964Z",
     "start_time": "2023-06-10T15:17:28.652638Z"
    }
   },
   "outputs": [
    {
     "name": "stdout",
     "output_type": "stream",
     "text": [
      "\n",
      " !$&',-.3:;?ABCDEFGHIJKLMNOPQRSTUVWXYZabcdefghijklmnopqrstuvwxyz\n",
      "65\n"
     ]
    }
   ],
   "source": [
    "# Get all unique characters sort it and its total len\n",
    "\n",
    "chars = sorted(list(set(text)))\n",
    "vocab_size = len(chars)\n",
    "print(''.join(chars))\n",
    "print(vocab_size)"
   ]
  },
  {
   "cell_type": "code",
   "execution_count": 6,
   "id": "a354ff0c",
   "metadata": {
    "ExecuteTime": {
     "end_time": "2023-06-10T15:17:29.455937Z",
     "start_time": "2023-06-10T15:17:29.444030Z"
    }
   },
   "outputs": [
    {
     "name": "stdout",
     "output_type": "stream",
     "text": [
      "[46, 47, 1, 58, 46, 43, 56, 43, 2]\n",
      "hi there!\n"
     ]
    }
   ],
   "source": [
    "\"\"\"\n",
    "    Initialization of String-to-Integer and Integer-to-String Dictionaries: \n",
    "    Initializing dictionaries to map each character to its corresponding index \n",
    "    and each index to its corresponding character. \n",
    "\n",
    "    Definition of encode and decode functions: \n",
    "    Defining functions to convert the text and list of integers into their \n",
    "    respective indexed values.\n",
    "\"\"\"\n",
    "\n",
    "stoi = {ch:i for i, ch in enumerate(chars)}\n",
    "iots = {i:ch for i, ch in enumerate(chars)}\n",
    "encode = lambda s: [stoi[c] for c in s]\n",
    "decode = lambda l: ''.join([iots[i] for i in l])\n",
    "\n",
    "print(encode(\"hi there!\"))\n",
    "print(decode(encode(\"hi there!\")))"
   ]
  },
  {
   "cell_type": "code",
   "execution_count": 7,
   "id": "c2716130",
   "metadata": {
    "ExecuteTime": {
     "end_time": "2023-06-10T15:17:31.777129Z",
     "start_time": "2023-06-10T15:17:29.836206Z"
    }
   },
   "outputs": [
    {
     "name": "stdout",
     "output_type": "stream",
     "text": [
      "torch.Size([1115394]) torch.int64\n",
      "tensor([18, 47, 56, 57, 58,  1, 15, 47, 58, 47, 64, 43, 52, 10,  0, 14, 43, 44,\n",
      "        53, 56, 43,  1, 61, 43,  1, 54, 56, 53, 41, 43, 43, 42,  1, 39, 52, 63,\n",
      "         1, 44, 59, 56, 58, 46, 43, 56,  6,  1, 46, 43, 39, 56,  1, 51, 43,  1,\n",
      "        57, 54, 43, 39, 49,  8,  0,  0, 13, 50, 50, 10,  0, 31, 54, 43, 39, 49,\n",
      "         6,  1, 57, 54, 43, 39, 49,  8,  0,  0, 18, 47, 56, 57, 58,  1, 15, 47,\n",
      "        58, 47, 64, 43, 52, 10,  0, 37, 53, 59,  1, 39, 56, 43,  1, 39, 50, 50,\n",
      "         1, 56, 43, 57, 53, 50, 60, 43, 42,  1, 56, 39, 58, 46, 43, 56,  1, 58,\n",
      "        53,  1, 42, 47, 43,  1, 58, 46, 39, 52,  1, 58, 53,  1, 44, 39, 51, 47,\n",
      "        57, 46, 12,  0,  0, 13, 50, 50, 10,  0, 30, 43, 57, 53, 50, 60, 43, 42,\n",
      "         8,  1, 56, 43, 57, 53, 50, 60, 43, 42,  8,  0,  0, 18, 47, 56, 57, 58,\n",
      "         1, 15, 47, 58, 47, 64, 43, 52, 10,  0, 18, 47, 56, 57, 58,  6,  1, 63,\n",
      "        53, 59,  1, 49, 52, 53, 61,  1, 15, 39, 47, 59, 57,  1, 25, 39, 56, 41,\n",
      "        47, 59, 57,  1, 47, 57,  1, 41, 46, 47, 43, 44,  1, 43, 52, 43, 51, 63,\n",
      "         1, 58, 53,  1, 58, 46, 43,  1, 54, 43, 53, 54, 50, 43,  8,  0,  0, 13,\n",
      "        50, 50, 10,  0, 35, 43,  1, 49, 52, 53, 61,  5, 58,  6,  1, 61, 43,  1,\n",
      "        49, 52, 53, 61,  5, 58,  8,  0,  0, 18, 47, 56, 57, 58,  1, 15, 47, 58,\n",
      "        47, 64, 43, 52, 10,  0, 24, 43, 58,  1, 59, 57,  1, 49, 47, 50, 50,  1,\n",
      "        46, 47, 51,  6,  1, 39, 52, 42,  1, 61, 43,  5, 50, 50,  1, 46, 39, 60,\n",
      "        43,  1, 41, 53, 56, 52,  1, 39, 58,  1, 53, 59, 56,  1, 53, 61, 52,  1,\n",
      "        54, 56, 47, 41, 43,  8,  0, 21, 57,  5, 58,  1, 39,  1, 60, 43, 56, 42,\n",
      "        47, 41, 58, 12,  0,  0, 13, 50, 50, 10,  0, 26, 53,  1, 51, 53, 56, 43,\n",
      "         1, 58, 39, 50, 49, 47, 52, 45,  1, 53, 52,  5, 58, 11,  1, 50, 43, 58,\n",
      "         1, 47, 58,  1, 40, 43,  1, 42, 53, 52, 43, 10,  1, 39, 61, 39, 63,  6,\n",
      "         1, 39, 61, 39, 63,  2,  0,  0, 31, 43, 41, 53, 52, 42,  1, 15, 47, 58,\n",
      "        47, 64, 43, 52, 10,  0, 27, 52, 43,  1, 61, 53, 56, 42,  6,  1, 45, 53,\n",
      "        53, 42,  1, 41, 47, 58, 47, 64, 43, 52, 57,  8,  0,  0, 18, 47, 56, 57,\n",
      "        58,  1, 15, 47, 58, 47, 64, 43, 52, 10,  0, 35, 43,  1, 39, 56, 43,  1,\n",
      "        39, 41, 41, 53, 59, 52, 58, 43, 42,  1, 54, 53, 53, 56,  1, 41, 47, 58,\n",
      "        47, 64, 43, 52, 57,  6,  1, 58, 46, 43,  1, 54, 39, 58, 56, 47, 41, 47,\n",
      "        39, 52, 57,  1, 45, 53, 53, 42,  8,  0, 35, 46, 39, 58,  1, 39, 59, 58,\n",
      "        46, 53, 56, 47, 58, 63,  1, 57, 59, 56, 44, 43, 47, 58, 57,  1, 53, 52,\n",
      "         1, 61, 53, 59, 50, 42,  1, 56, 43, 50, 47, 43, 60, 43,  1, 59, 57, 10,\n",
      "         1, 47, 44,  1, 58, 46, 43, 63,  0, 61, 53, 59, 50, 42,  1, 63, 47, 43,\n",
      "        50, 42,  1, 59, 57,  1, 40, 59, 58,  1, 58, 46, 43,  1, 57, 59, 54, 43,\n",
      "        56, 44, 50, 59, 47, 58, 63,  6,  1, 61, 46, 47, 50, 43,  1, 47, 58,  1,\n",
      "        61, 43, 56, 43,  0, 61, 46, 53, 50, 43, 57, 53, 51, 43,  6,  1, 61, 43,\n",
      "         1, 51, 47, 45, 46, 58,  1, 45, 59, 43, 57, 57,  1, 58, 46, 43, 63,  1,\n",
      "        56, 43, 50, 47, 43, 60, 43, 42,  1, 59, 57,  1, 46, 59, 51, 39, 52, 43,\n",
      "        50, 63, 11,  0, 40, 59, 58,  1, 58, 46, 43, 63,  1, 58, 46, 47, 52, 49,\n",
      "         1, 61, 43,  1, 39, 56, 43,  1, 58, 53, 53,  1, 42, 43, 39, 56, 10,  1,\n",
      "        58, 46, 43,  1, 50, 43, 39, 52, 52, 43, 57, 57,  1, 58, 46, 39, 58,  0,\n",
      "        39, 44, 44, 50, 47, 41, 58, 57,  1, 59, 57,  6,  1, 58, 46, 43,  1, 53,\n",
      "        40, 48, 43, 41, 58,  1, 53, 44,  1, 53, 59, 56,  1, 51, 47, 57, 43, 56,\n",
      "        63,  6,  1, 47, 57,  1, 39, 57,  1, 39, 52,  0, 47, 52, 60, 43, 52, 58,\n",
      "        53, 56, 63,  1, 58, 53,  1, 54, 39, 56, 58, 47, 41, 59, 50, 39, 56, 47,\n",
      "        57, 43,  1, 58, 46, 43, 47, 56,  1, 39, 40, 59, 52, 42, 39, 52, 41, 43,\n",
      "        11,  1, 53, 59, 56,  0, 57, 59, 44, 44, 43, 56, 39, 52, 41, 43,  1, 47,\n",
      "        57,  1, 39,  1, 45, 39, 47, 52,  1, 58, 53,  1, 58, 46, 43, 51,  1, 24,\n",
      "        43, 58,  1, 59, 57,  1, 56, 43, 60, 43, 52, 45, 43,  1, 58, 46, 47, 57,\n",
      "         1, 61, 47, 58, 46,  0, 53, 59, 56,  1, 54, 47, 49, 43, 57,  6,  1, 43,\n",
      "        56, 43,  1, 61, 43,  1, 40, 43, 41, 53, 51, 43,  1, 56, 39, 49, 43, 57,\n",
      "        10,  1, 44, 53, 56,  1, 58, 46, 43,  1, 45, 53, 42, 57,  1, 49, 52, 53,\n",
      "        61,  1, 21,  0, 57, 54, 43, 39, 49,  1, 58, 46, 47, 57,  1, 47, 52,  1,\n",
      "        46, 59, 52, 45, 43, 56,  1, 44, 53, 56,  1, 40, 56, 43, 39, 42,  6,  1,\n",
      "        52, 53, 58,  1, 47, 52,  1, 58, 46, 47, 56, 57, 58,  1, 44, 53, 56,  1,\n",
      "        56, 43, 60, 43, 52, 45, 43,  8,  0,  0])\n"
     ]
    }
   ],
   "source": [
    "#Encoding of the whole dataset and conversion to tensor object\n",
    "\n",
    "import torch\n",
    "data = torch.tensor(encode(text), dtype=torch.long)\n",
    "print(data.shape, data.dtype)\n",
    "print(data[:1000])"
   ]
  },
  {
   "cell_type": "code",
   "execution_count": 10,
   "id": "af8d5923",
   "metadata": {
    "ExecuteTime": {
     "end_time": "2023-06-10T15:30:12.770199Z",
     "start_time": "2023-06-10T15:30:12.763502Z"
    }
   },
   "outputs": [],
   "source": [
    "# Splitting the dataset into train (90%) and test (10%) splits.\n",
    "n = int(0.9*len(data))\n",
    "train_data = data[:n]\n",
    "val_data = data[n:]"
   ]
  },
  {
   "cell_type": "code",
   "execution_count": 11,
   "id": "1965b2d2",
   "metadata": {
    "ExecuteTime": {
     "end_time": "2023-06-10T15:30:18.238137Z",
     "start_time": "2023-06-10T15:30:18.219485Z"
    }
   },
   "outputs": [
    {
     "data": {
      "text/plain": [
       "tensor([18, 47, 56, 57, 58,  1, 15, 47, 58])"
      ]
     },
     "execution_count": 11,
     "metadata": {},
     "output_type": "execute_result"
    }
   ],
   "source": [
    "# We never gonna feed the entire text all at once\n",
    "# Only work with chunks of the dataset through maximum length -- block size\n",
    "block_size = 8\n",
    "train_data[:block_size+1]"
   ]
  },
  {
   "cell_type": "code",
   "execution_count": 12,
   "id": "96c0cc3a",
   "metadata": {
    "ExecuteTime": {
     "end_time": "2023-06-10T15:30:52.092243Z",
     "start_time": "2023-06-10T15:30:52.079575Z"
    }
   },
   "outputs": [
    {
     "name": "stdout",
     "output_type": "stream",
     "text": [
      "when input is tensor([18]) the target: 47\n",
      "when input is tensor([18, 47]) the target: 56\n",
      "when input is tensor([18, 47, 56]) the target: 57\n",
      "when input is tensor([18, 47, 56, 57]) the target: 58\n",
      "when input is tensor([18, 47, 56, 57, 58]) the target: 1\n",
      "when input is tensor([18, 47, 56, 57, 58,  1]) the target: 15\n",
      "when input is tensor([18, 47, 56, 57, 58,  1, 15]) the target: 47\n",
      "when input is tensor([18, 47, 56, 57, 58,  1, 15, 47]) the target: 58\n"
     ]
    }
   ],
   "source": [
    "x = train_data[:block_size]\n",
    "y = train_data[1:block_size+1]\n",
    "for t in range(block_size):\n",
    "    context = x[:t+1]\n",
    "    target = y[t]\n",
    "    print(f\"when input is {context} the target: {target}\")"
   ]
  },
  {
   "cell_type": "code",
   "execution_count": 13,
   "id": "8ce6c2ba",
   "metadata": {
    "ExecuteTime": {
     "end_time": "2023-06-10T15:40:16.950830Z",
     "start_time": "2023-06-10T15:40:16.925391Z"
    }
   },
   "outputs": [
    {
     "name": "stdout",
     "output_type": "stream",
     "text": [
      "inputs:\n",
      "torch.Size([4, 8])\n",
      "tensor([[24, 43, 58,  5, 57,  1, 46, 43],\n",
      "        [44, 53, 56,  1, 58, 46, 39, 58],\n",
      "        [52, 58,  1, 58, 46, 39, 58,  1],\n",
      "        [25, 17, 27, 10,  0, 21,  1, 54]])\n",
      "targets:\n",
      "torch.Size([4, 8])\n",
      "tensor([[43, 58,  5, 57,  1, 46, 43, 39],\n",
      "        [53, 56,  1, 58, 46, 39, 58,  1],\n",
      "        [58,  1, 58, 46, 39, 58,  1, 46],\n",
      "        [17, 27, 10,  0, 21,  1, 54, 39]])\n",
      "----\n",
      "when input is [24] the taget: 43\n",
      "when input is [24, 43] the taget: 58\n",
      "when input is [24, 43, 58] the taget: 5\n",
      "when input is [24, 43, 58, 5] the taget: 57\n",
      "when input is [24, 43, 58, 5, 57] the taget: 1\n",
      "when input is [24, 43, 58, 5, 57, 1] the taget: 46\n",
      "when input is [24, 43, 58, 5, 57, 1, 46] the taget: 43\n",
      "when input is [24, 43, 58, 5, 57, 1, 46, 43] the taget: 39\n",
      "when input is [44] the taget: 53\n",
      "when input is [44, 53] the taget: 56\n",
      "when input is [44, 53, 56] the taget: 1\n",
      "when input is [44, 53, 56, 1] the taget: 58\n",
      "when input is [44, 53, 56, 1, 58] the taget: 46\n",
      "when input is [44, 53, 56, 1, 58, 46] the taget: 39\n",
      "when input is [44, 53, 56, 1, 58, 46, 39] the taget: 58\n",
      "when input is [44, 53, 56, 1, 58, 46, 39, 58] the taget: 1\n",
      "when input is [52] the taget: 58\n",
      "when input is [52, 58] the taget: 1\n",
      "when input is [52, 58, 1] the taget: 58\n",
      "when input is [52, 58, 1, 58] the taget: 46\n",
      "when input is [52, 58, 1, 58, 46] the taget: 39\n",
      "when input is [52, 58, 1, 58, 46, 39] the taget: 58\n",
      "when input is [52, 58, 1, 58, 46, 39, 58] the taget: 1\n",
      "when input is [52, 58, 1, 58, 46, 39, 58, 1] the taget: 46\n",
      "when input is [25] the taget: 17\n",
      "when input is [25, 17] the taget: 27\n",
      "when input is [25, 17, 27] the taget: 10\n",
      "when input is [25, 17, 27, 10] the taget: 0\n",
      "when input is [25, 17, 27, 10, 0] the taget: 21\n",
      "when input is [25, 17, 27, 10, 0, 21] the taget: 1\n",
      "when input is [25, 17, 27, 10, 0, 21, 1] the taget: 54\n",
      "when input is [25, 17, 27, 10, 0, 21, 1, 54] the taget: 39\n"
     ]
    }
   ],
   "source": [
    "\"\"\"\n",
    "    Karpathy demonstrated and explained how the dataset is prepared for \n",
    "    training explained here that each sequence of data has maximimum of 8 \n",
    "    tokens as the block_size is 8 and 4 rows for each batch. This is shown\n",
    "    as the architecture can process matrices in parallel independent of each\n",
    "    other as we've also discussed in class.\n",
    "\"\"\"\n",
    "\n",
    "torch.manual_seed(1337)\n",
    "batch_size = 4\n",
    "block_size = 8\n",
    "\n",
    "def get_batch(split):\n",
    "    data = train_data if split == 'train' else val_data\n",
    "    ix = torch.randint(len(data) - block_size, (batch_size,))\n",
    "    x = torch.stack([data[i:i+block_size] for i in ix])\n",
    "    y = torch.stack([data[i+1:i+block_size+1] for i in ix])\n",
    "    return x, y\n",
    "\n",
    "xb, yb = get_batch('train')\n",
    "print('inputs:')\n",
    "print(xb.shape)\n",
    "print(xb)\n",
    "print('targets:')\n",
    "print(yb.shape)\n",
    "print(yb)\n",
    "\n",
    "print('----')\n",
    "\n",
    "for b in range(batch_size): #batch dimension\n",
    "    for t in range(block_size): #time dimension\n",
    "        context = xb[b, :t+1]\n",
    "        target = yb[b, t]\n",
    "        print(f\"when input is {context.tolist()} the taget: {target}\")"
   ]
  },
  {
   "cell_type": "code",
   "execution_count": 14,
   "id": "e79285f7",
   "metadata": {
    "ExecuteTime": {
     "end_time": "2023-06-10T15:42:50.717785Z",
     "start_time": "2023-06-10T15:42:50.596077Z"
    }
   },
   "outputs": [
    {
     "name": "stdout",
     "output_type": "stream",
     "text": [
      "65\n",
      "torch.Size([32, 65])\n",
      "tensor(4.8786, grad_fn=<NllLossBackward0>)\n",
      "\n",
      "Sr?qP-QWktXoL&jLDJgOLVz'RIoDqHdhsV&vLLxatjscMpwLERSPyao.qfzs$Ys$zF-w,;eEkzxjgCKFChs!iWW.ObzDnxA Ms$3\n"
     ]
    }
   ],
   "source": [
    "\"\"\"\n",
    "    This is the initial version of the BigramLanguageModel, where Karpathy \n",
    "    explained the shapes of B (batch_size), T (sequence length), and C \n",
    "    (channels/vocab_size). We discussed how logits-softmax works, which is the \n",
    "    same explanation we had in class. We also calculated the loss using \n",
    "    cross_entropy when the target is defined, as it measures the dissimilarity \n",
    "    between the predicted probability distribution over classes (our vocabulary) \n",
    "    and the true distribution (target token).\n",
    "\"\"\"\n",
    "\n",
    "import torch\n",
    "import torch.nn as nn\n",
    "from torch.nn import functional as F\n",
    "\n",
    "torch.manual_seed(1337)\n",
    "\n",
    "class BigramLanguageModel(nn.Module):\n",
    "    def __init__(self, vocab_size):\n",
    "        super().__init__()\n",
    "        self.token_embedding_table = nn.Embedding(vocab_size, vocab_size)\n",
    "\n",
    "    def forward(self, idx, targets=None):\n",
    "        \"\"\"\n",
    "        Forward pass of the BigramLanguageModel.\n",
    "        \n",
    "        Args:\n",
    "            idx (torch.Tensor): Input tensor of shape (B, T) representing the indices of tokens.\n",
    "            targets (torch.Tensor): Target tensor of shape (B, T) representing the indices of target tokens.\n",
    "        \n",
    "        Returns:\n",
    "            logits (torch.Tensor): Logits tensor of shape (B, T, C) representing the predicted scores for each token.\n",
    "            loss (torch.Tensor or None): Loss tensor if targets are provided, else None.\n",
    "        \"\"\"\n",
    "        logits = self.token_embedding_table(idx)  # (B, T, C)\n",
    "\n",
    "        if targets is None:\n",
    "            loss = None\n",
    "        else:\n",
    "            B, T, C = logits.shape\n",
    "            logits = logits.view(B * T, C)\n",
    "            targets = targets.view(B * T)\n",
    "            loss = F.cross_entropy(logits, targets)\n",
    "\n",
    "        return logits, loss\n",
    "\n",
    "    def generate(self, idx, max_new_tokens):\n",
    "        \"\"\"\n",
    "        Generate new tokens based on the input sequence.\n",
    "\n",
    "        Args:\n",
    "            idx (torch.Tensor): Input tensor of shape (B, T) representing the indices of tokens.\n",
    "            max_new_tokens (int): Maximum number of new tokens to generate.\n",
    "\n",
    "        Returns:\n",
    "            idx (torch.Tensor): Generated tensor of shape (B, T+max_new_tokens) representing the updated sequence.\n",
    "        \"\"\"\n",
    "        for _ in range(max_new_tokens):\n",
    "            logits, loss = self(idx)\n",
    "            logits = logits[:, -1, :]\n",
    "            probs = F.softmax(logits, dim=-1)\n",
    "            idx_next = torch.multinomial(probs, num_samples=1)\n",
    "            idx = torch.cat((idx, idx_next), dim=1)\n",
    "        return idx\n",
    "\n",
    "\n",
    "m = BigramLanguageModel(vocab_size)\n",
    "print(vocab_size)\n",
    "logits, loss = m(xb, yb)\n",
    "print(logits.shape)\n",
    "print(loss)\n",
    "\n",
    "\n",
    "# Initiate idx with a 1,1 tensor to kick_off the generation of 100 new tokens\n",
    "print(decode(m.generate(idx = torch.zeros((1, 1), dtype=torch.long), max_new_tokens=100)[0].tolist()))"
   ]
  },
  {
   "cell_type": "code",
   "execution_count": 15,
   "id": "b264c00f",
   "metadata": {
    "ExecuteTime": {
     "end_time": "2023-06-10T15:43:07.740588Z",
     "start_time": "2023-06-10T15:43:07.733811Z"
    }
   },
   "outputs": [],
   "source": [
    "# create a PyTorch optimizer\n",
    "optimizer = torch.optim.AdamW(m.parameters(), lr=1e-3)"
   ]
  },
  {
   "cell_type": "code",
   "execution_count": 17,
   "id": "a3f63db5",
   "metadata": {
    "ExecuteTime": {
     "end_time": "2023-06-10T15:44:17.534309Z",
     "start_time": "2023-06-10T15:44:02.054576Z"
    }
   },
   "outputs": [
    {
     "name": "stdout",
     "output_type": "stream",
     "text": [
      "3.6380467414855957\n"
     ]
    }
   ],
   "source": [
    "batch_size = 32\n",
    "for steps in range(1000): # increase number of steps for good results... \n",
    "    \n",
    "    # sample a batch of data\n",
    "    xb, yb = get_batch('train')\n",
    "\n",
    "    # evaluate the loss\n",
    "    logits, loss = m(xb, yb)\n",
    "    optimizer.zero_grad(set_to_none=True)\n",
    "    loss.backward()\n",
    "    optimizer.step()\n",
    "\n",
    "print(loss.item())"
   ]
  },
  {
   "cell_type": "code",
   "execution_count": 18,
   "id": "6dbbf8fa",
   "metadata": {
    "ExecuteTime": {
     "end_time": "2023-06-10T15:44:25.170412Z",
     "start_time": "2023-06-10T15:44:25.087925Z"
    }
   },
   "outputs": [
    {
     "name": "stdout",
     "output_type": "stream",
     "text": [
      "\n",
      "gCv,XatYgGf bsAm'PADUvk!ukOET;humVz&fsJgCJMERSTMkW.IV;Bk't?ERN q-.g Ybrw'BSKd&YNYHA,iy ixl;gRnpGNIIgCH&'woc; ;AUVlxagGJM\n",
      "oKkWNf?EH-\n",
      ":CxOhPQFllSP!BOjKBBAQymyqMliPdFot;:q-wJ&\n",
      "fxa!BHBiabvvKIVzM:CAWheht$g\n",
      "GFd&jFnDCEXDuUVKootgUGF!aPxTph:C mOy.d?Cu!?z3SgYUK:CIU?mnlV&y.nQ'd zfs$IJzPO Ax; zwf-imlatNHA.ZGlysuRPyiyieH'X'zLoocUztowMcf'myeD.Dqmyk$. dsnlivRCxnnmasxiRSm,FERM?lIEKaPvriqZY?nQlcR: OMH-Ku-la!SKNT?Rj?d,i.,SP swbcObZpYUD3De,ir nsfRju-wU,\n",
      "Fk-?wfritysV;.nQ?OgQwoT&T:qKAUz-thzkptyFd,sBORp'Ard\n",
      "oCVJjeUGN\n"
     ]
    }
   ],
   "source": [
    "# Quality is still pretty bad but better than the initial output\n",
    "print(decode(m.generate(idx = torch.zeros((1, 1), dtype=torch.long), max_new_tokens=500)[0].tolist()))"
   ]
  },
  {
   "cell_type": "code",
   "execution_count": 19,
   "id": "b7f0315b",
   "metadata": {
    "ExecuteTime": {
     "end_time": "2023-06-10T15:44:53.217697Z",
     "start_time": "2023-06-10T15:44:53.198884Z"
    }
   },
   "outputs": [
    {
     "name": "stdout",
     "output_type": "stream",
     "text": [
      "a=\n",
      "tensor([[1.0000, 0.0000, 0.0000],\n",
      "        [0.5000, 0.5000, 0.0000],\n",
      "        [0.3333, 0.3333, 0.3333]])\n",
      "--\n",
      "b=\n",
      "tensor([[2., 7.],\n",
      "        [6., 4.],\n",
      "        [6., 5.]])\n",
      "--\n",
      "c=\n",
      "tensor([[2.0000, 7.0000],\n",
      "        [4.0000, 5.5000],\n",
      "        [4.6667, 5.3333]])\n"
     ]
    }
   ],
   "source": [
    "# toy example illustrating how matrix multiplication can be used for a \"weighted aggregation\"\n",
    "torch.manual_seed(42)\n",
    "a = torch.tril(torch.ones(3, 3))\n",
    "a = a / torch.sum(a, 1, keepdim=True)\n",
    "b = torch.randint(0,10,(3,2)).float()\n",
    "c = a @ b\n",
    "print('a=')\n",
    "print(a)\n",
    "print('--')\n",
    "print('b=')\n",
    "print(b)\n",
    "print('--')\n",
    "print('c=')\n",
    "print(c)"
   ]
  },
  {
   "cell_type": "code",
   "execution_count": 20,
   "id": "cf8991c3",
   "metadata": {
    "ExecuteTime": {
     "end_time": "2023-06-10T15:45:04.297541Z",
     "start_time": "2023-06-10T15:45:04.281339Z"
    }
   },
   "outputs": [
    {
     "data": {
      "text/plain": [
       "torch.Size([4, 8, 2])"
      ]
     },
     "execution_count": 20,
     "metadata": {},
     "output_type": "execute_result"
    }
   ],
   "source": [
    "torch.manual_seed(1337)\n",
    "B,T,C = 4,8,2 # batch, time, channels\n",
    "x = torch.randn(B,T,C)\n",
    "x.shape"
   ]
  },
  {
   "cell_type": "code",
   "execution_count": 21,
   "id": "58b17108",
   "metadata": {
    "ExecuteTime": {
     "end_time": "2023-06-10T15:46:29.897181Z",
     "start_time": "2023-06-10T15:46:29.886288Z"
    }
   },
   "outputs": [],
   "source": [
    "xbow = torch.zeros((B,T,C))\n",
    "for b in range(B):\n",
    "    for t in range(T):\n",
    "        xprev = x[b,:t+1] # (t,C)\n",
    "        xbow[b,t] = torch.mean(xprev, 0)"
   ]
  },
  {
   "cell_type": "code",
   "execution_count": 27,
   "id": "19d6dd96",
   "metadata": {
    "ExecuteTime": {
     "end_time": "2023-06-10T03:46:59.603893Z",
     "start_time": "2023-06-10T03:46:59.593189Z"
    }
   },
   "outputs": [
    {
     "name": "stdout",
     "output_type": "stream",
     "text": [
      "True\n",
      "tensor([[ 0.1808, -0.0700],\n",
      "        [-0.0894, -0.4926],\n",
      "        [ 0.1490, -0.3199],\n",
      "        [ 0.3504, -0.2238],\n",
      "        [ 0.3525,  0.0545],\n",
      "        [ 0.0688, -0.0396],\n",
      "        [ 0.0927, -0.0682],\n",
      "        [-0.0341,  0.1332]]) tensor([[ 0.1808, -0.0700],\n",
      "        [-0.0894, -0.4926],\n",
      "        [ 0.1490, -0.3199],\n",
      "        [ 0.3504, -0.2238],\n",
      "        [ 0.3525,  0.0545],\n",
      "        [ 0.0688, -0.0396],\n",
      "        [ 0.0927, -0.0682],\n",
      "        [-0.0341,  0.1332]])\n"
     ]
    }
   ],
   "source": [
    "wei = torch.tril(torch.ones(T, T))\n",
    "wei = wei / wei.sum(1, keepdim=True)\n",
    "xbow2 = wei @ x #(B, T, T) @ (B, T, C) -----> (B, T, C)\n",
    "print(torch.allclose(xbow, xbow2))\n",
    "print(xbow[0], xbow2[0])"
   ]
  },
  {
   "cell_type": "code",
   "execution_count": 28,
   "id": "239794ad",
   "metadata": {
    "ExecuteTime": {
     "end_time": "2023-06-10T03:47:13.263236Z",
     "start_time": "2023-06-10T03:47:13.248086Z"
    }
   },
   "outputs": [
    {
     "name": "stdout",
     "output_type": "stream",
     "text": [
      "True\n",
      "tensor([[ 0.1808, -0.0700],\n",
      "        [-0.0894, -0.4926],\n",
      "        [ 0.1490, -0.3199],\n",
      "        [ 0.3504, -0.2238],\n",
      "        [ 0.3525,  0.0545],\n",
      "        [ 0.0688, -0.0396],\n",
      "        [ 0.0927, -0.0682],\n",
      "        [-0.0341,  0.1332]]) tensor([[ 0.1808, -0.0700],\n",
      "        [-0.0894, -0.4926],\n",
      "        [ 0.1490, -0.3199],\n",
      "        [ 0.3504, -0.2238],\n",
      "        [ 0.3525,  0.0545],\n",
      "        [ 0.0688, -0.0396],\n",
      "        [ 0.0927, -0.0682],\n",
      "        [-0.0341,  0.1332]])\n"
     ]
    }
   ],
   "source": [
    "tril = torch.tril(torch.ones(T, T))\n",
    "wei = torch.zeros((T, T))\n",
    "wei = wei.masked_fill(tril == 0, float('-inf'))\n",
    "wei = F.softmax(wei, dim=-1)\n",
    "xbow3 = wei @ x\n",
    "\n",
    "print(torch.allclose(xbow, xbow3))\n",
    "print(xbow[0], xbow2[0])"
   ]
  },
  {
   "cell_type": "code",
   "execution_count": 29,
   "id": "4619f790",
   "metadata": {
    "ExecuteTime": {
     "end_time": "2023-06-10T03:47:35.413683Z",
     "start_time": "2023-06-10T03:47:35.394369Z"
    }
   },
   "outputs": [
    {
     "data": {
      "text/plain": [
       "torch.Size([4, 8, 16])"
      ]
     },
     "execution_count": 29,
     "metadata": {},
     "output_type": "execute_result"
    }
   ],
   "source": [
    "# version 4: self-attention!\n",
    "torch.manual_seed(1337)\n",
    "B,T,C = 4,8,32 # batch, time, channels\n",
    "x = torch.randn(B,T,C)\n",
    "\n",
    "# let's see a single Head perform self-attention\n",
    "head_size = 16\n",
    "key = nn.Linear(C, head_size, bias=False)\n",
    "query = nn.Linear(C, head_size, bias=False)\n",
    "value = nn.Linear(C, head_size, bias=False)\n",
    "k = key(x)   # (B, T, 16)\n",
    "q = query(x) # (B, T, 16)\n",
    "wei =  q @ k.transpose(-2, -1) # (B, T, 16) @ (B, 16, T) ---> (B, T, T)\n",
    "\n",
    "tril = torch.tril(torch.ones(T, T))\n",
    "#wei = torch.zeros((T,T))\n",
    "wei = wei.masked_fill(tril == 0, float('-inf'))\n",
    "wei = F.softmax(wei, dim=-1)\n",
    "\n",
    "v = value(x)\n",
    "out = wei @ v\n",
    "#out = wei @ x\n",
    "\n",
    "out.shape"
   ]
  },
  {
   "cell_type": "code",
   "execution_count": 30,
   "id": "c4d7cb3a",
   "metadata": {
    "ExecuteTime": {
     "end_time": "2023-06-10T03:47:45.001968Z",
     "start_time": "2023-06-10T03:47:44.989279Z"
    }
   },
   "outputs": [
    {
     "data": {
      "text/plain": [
       "tensor([[1.0000, 0.0000, 0.0000, 0.0000, 0.0000, 0.0000, 0.0000, 0.0000],\n",
       "        [0.1574, 0.8426, 0.0000, 0.0000, 0.0000, 0.0000, 0.0000, 0.0000],\n",
       "        [0.2088, 0.1646, 0.6266, 0.0000, 0.0000, 0.0000, 0.0000, 0.0000],\n",
       "        [0.5792, 0.1187, 0.1889, 0.1131, 0.0000, 0.0000, 0.0000, 0.0000],\n",
       "        [0.0294, 0.1052, 0.0469, 0.0276, 0.7909, 0.0000, 0.0000, 0.0000],\n",
       "        [0.0176, 0.2689, 0.0215, 0.0089, 0.6812, 0.0019, 0.0000, 0.0000],\n",
       "        [0.1691, 0.4066, 0.0438, 0.0416, 0.1048, 0.2012, 0.0329, 0.0000],\n",
       "        [0.0210, 0.0843, 0.0555, 0.2297, 0.0573, 0.0709, 0.2423, 0.2391]],\n",
       "       grad_fn=<SelectBackward0>)"
      ]
     },
     "execution_count": 30,
     "metadata": {},
     "output_type": "execute_result"
    }
   ],
   "source": [
    "wei[0]"
   ]
  },
  {
   "cell_type": "code",
   "execution_count": 32,
   "id": "0460792e",
   "metadata": {
    "ExecuteTime": {
     "end_time": "2023-06-10T03:48:12.000484Z",
     "start_time": "2023-06-10T03:48:11.994097Z"
    }
   },
   "outputs": [],
   "source": [
    "k = torch.randn(B,T,head_size)\n",
    "q = torch.randn(B,T,head_size)\n",
    "wei = q @ k.transpose(-2, -1) * head_size**-0.5"
   ]
  },
  {
   "cell_type": "code",
   "execution_count": 33,
   "id": "92dbe617",
   "metadata": {
    "ExecuteTime": {
     "end_time": "2023-06-10T03:48:12.537011Z",
     "start_time": "2023-06-10T03:48:12.529586Z"
    }
   },
   "outputs": [
    {
     "data": {
      "text/plain": [
       "tensor(1.0449)"
      ]
     },
     "execution_count": 33,
     "metadata": {},
     "output_type": "execute_result"
    }
   ],
   "source": [
    "k.var()"
   ]
  },
  {
   "cell_type": "code",
   "execution_count": 34,
   "id": "26bebcd8",
   "metadata": {
    "ExecuteTime": {
     "end_time": "2023-06-10T03:48:13.186650Z",
     "start_time": "2023-06-10T03:48:13.178578Z"
    }
   },
   "outputs": [
    {
     "data": {
      "text/plain": [
       "tensor(1.0918)"
      ]
     },
     "execution_count": 34,
     "metadata": {},
     "output_type": "execute_result"
    }
   ],
   "source": [
    "wei.var()"
   ]
  },
  {
   "cell_type": "code",
   "execution_count": 35,
   "id": "dc0693b7",
   "metadata": {
    "ExecuteTime": {
     "end_time": "2023-06-10T03:48:14.083516Z",
     "start_time": "2023-06-10T03:48:14.073641Z"
    }
   },
   "outputs": [
    {
     "data": {
      "text/plain": [
       "tensor([0.1925, 0.1426, 0.2351, 0.1426, 0.2872])"
      ]
     },
     "execution_count": 35,
     "metadata": {},
     "output_type": "execute_result"
    }
   ],
   "source": [
    "torch.softmax(torch.tensor([0.1, -0.2, 0.3, -0.2, 0.5]), dim=-1)"
   ]
  },
  {
   "cell_type": "code",
   "execution_count": 36,
   "id": "b827d1e1",
   "metadata": {
    "ExecuteTime": {
     "end_time": "2023-06-10T03:48:16.947492Z",
     "start_time": "2023-06-10T03:48:16.937490Z"
    }
   },
   "outputs": [
    {
     "data": {
      "text/plain": [
       "tensor([0.0326, 0.0030, 0.1615, 0.0030, 0.8000])"
      ]
     },
     "execution_count": 36,
     "metadata": {},
     "output_type": "execute_result"
    }
   ],
   "source": [
    "torch.softmax(torch.tensor([0.1, -0.2, 0.3, -0.2, 0.5])*8, dim=-1)"
   ]
  },
  {
   "cell_type": "code",
   "execution_count": 37,
   "id": "376605d2",
   "metadata": {
    "ExecuteTime": {
     "end_time": "2023-06-10T03:48:22.242804Z",
     "start_time": "2023-06-10T03:48:22.209804Z"
    }
   },
   "outputs": [
    {
     "name": "stdout",
     "output_type": "stream",
     "text": [
      "torch.Size([32, 100])\n"
     ]
    },
    {
     "data": {
      "text/plain": [
       "tensor([[ 0.1335, -0.1059, -0.3824,  ..., -1.3422, -0.1971,  0.8795],\n",
       "        [-0.0353, -0.7439, -0.3371,  ..., -0.6276, -0.4846,  0.4556],\n",
       "        [ 0.3069, -1.5010,  1.4898,  ..., -0.6819,  0.9993,  0.8382],\n",
       "        ...,\n",
       "        [-1.6080, -1.6324, -0.7634,  ..., -0.9847,  0.0039, -0.8610],\n",
       "        [-0.2273,  0.0066, -0.2763,  ..., -0.8705, -1.2442, -0.7531],\n",
       "        [ 0.3054, -0.1505, -0.3809,  ..., -1.4962, -0.7711, -1.0681]])"
      ]
     },
     "execution_count": 37,
     "metadata": {},
     "output_type": "execute_result"
    }
   ],
   "source": [
    "class LayerNorm1d: # (used to be BatchNorm1d)\n",
    "    \"\"\"\n",
    "    Custom implementation of Layer Normalization for 1D input.\n",
    "    \"\"\"\n",
    "\n",
    "    def __init__(self, dim, eps=1e-5, momentum=0.1):\n",
    "        self.eps = eps\n",
    "        self.gamma = torch.ones(dim)\n",
    "        self.beta = torch.zeros(dim)\n",
    "\n",
    "    def __call__(self, x):\n",
    "        \"\"\"\n",
    "        Forward pass of LayerNorm1d.\n",
    "        \"\"\"\n",
    "        xmean = x.mean(1, keepdim=True)  # Calculate batch mean\n",
    "        xvar = x.var(1, keepdim=True)  # Calculate batch variance\n",
    "        xhat = (x - xmean) / torch.sqrt(xvar + self.eps)  # Normalize to unit variance\n",
    "        self.out = self.gamma * xhat + self.beta\n",
    "        return self.out\n",
    "\n",
    "    def parameters(self):\n",
    "        \"\"\"\n",
    "        Return the parameters of the LayerNorm1d module.\n",
    "        \"\"\"\n",
    "        return [self.gamma, self.beta]\n",
    "\n",
    "torch.manual_seed(1337)\n",
    "module = LayerNorm1d(100)\n",
    "x = torch.randn(32, 100)  # Batch size 32 of 100-dimensional vectors\n",
    "x = module(x)\n",
    "print(x.shape)\n",
    "x\n"
   ]
  },
  {
   "cell_type": "markdown",
   "id": "18e195d0",
   "metadata": {},
   "source": [
    "## What is self-attention?"
   ]
  },
  {
   "cell_type": "markdown",
   "id": "372aa615",
   "metadata": {},
   "source": [
    "Self-attention is a mechanism used in deep learning models, particularly in natural language processing. It allows the model to weigh the importance of different elements in a sequence by learning their relationships. Unlike traditional models, self-attention enables each element to directly consider all other elements, capturing long-range dependencies effectively. It works by computing attention scores between elements based on their queries and keys, and using these scores to combine the values and create a representation. This helps the model understand contextual information and identify important elements within the sequence. Self-attention has been successful in tasks like machine translation and text generation."
   ]
  },
  {
   "cell_type": "markdown",
   "id": "9de9ddfb",
   "metadata": {},
   "source": [
    "## Compare and contrast the concept of attention, self-attention, and cross-attention."
   ]
  },
  {
   "cell_type": "markdown",
   "id": "bb961bdd",
   "metadata": {},
   "source": [
    "Attention: It is a mechanism that assigns weights to different elements in a sequence based on their relevance to a specific element. It allows the model to focus on important elements while processing the sequence.\n",
    "\n",
    "Self-attention: It is a specific type of attention mechanism where elements within the same sequence attend to each other. Each element computes its own attention weights based on its relationships with other elements in the sequence. Self-attention helps capture dependencies and long-range dependencies within the sequence.\n",
    "\n",
    "Cross-attention: It is an extension of attention where elements from one sequence attend to elements from another sequence. This mechanism is useful when dealing with tasks that involve multiple sequences or when capturing relationships between different parts of the input."
   ]
  },
  {
   "cell_type": "markdown",
   "id": "0d23d43c",
   "metadata": {},
   "source": [
    "## What is multi-head attention? "
   ]
  },
  {
   "cell_type": "markdown",
   "id": "b5f1f1e0",
   "metadata": {},
   "source": [
    "In deep learning, \"multi-head attention\" refers to the concept of having multiple attention mechanisms, called \"heads,\" working independently to focus on different parts of the input sequence. It extends the basic attention mechanism by using multiple heads simultaneously, each learning different representations of the input. The outputs from the individual heads are combined to create a final representation.\n",
    "\n",
    "This technique allows the model to capture diverse types of information and dependencies in the input. By employing multiple heads, the model can attend to different aspects or perspectives of the input at the same time, enabling it to extract meaningful information and capture complex relationships. Multi-head attention provides the model with the ability to leverage various attention patterns and learn more expressive representations. It has proven effective in various tasks, such as machine translation and language modeling."
   ]
  },
  {
   "cell_type": "markdown",
   "id": "23a71150",
   "metadata": {},
   "source": [
    "## What is a transformer?"
   ]
  },
  {
   "cell_type": "markdown",
   "id": "14d31598",
   "metadata": {},
   "source": [
    "A transformer is a powerful deep learning model designed for natural language processing tasks. It uses self-attention to understand the relationships between words in a sentence, allowing it to consider context and dependencies effectively. Unlike traditional models, transformers can process input in parallel, making them efficient. They have achieved impressive results in tasks like translation, summarization, and question answering, transforming the field of NLP with their ability to capture context and handle long-range dependencies."
   ]
  },
  {
   "cell_type": "markdown",
   "id": "33b5a064",
   "metadata": {},
   "source": [
    "### Transformer Showcase"
   ]
  },
  {
   "cell_type": "markdown",
   "id": "8ffeaad2",
   "metadata": {},
   "source": [
    "### Setting the transformer"
   ]
  },
  {
   "cell_type": "code",
   "execution_count": 22,
   "id": "829100e2",
   "metadata": {
    "ExecuteTime": {
     "end_time": "2023-06-10T16:42:06.589503Z",
     "start_time": "2023-06-10T16:42:06.544006Z"
    }
   },
   "outputs": [],
   "source": [
    "import torch\n",
    "import torch.nn as nn\n",
    "from torch.nn import functional as F\n",
    "\n",
    "def nano_GPT (batch_size=16, block_size=32, max_iters=5000, eval_interval=100,\n",
    "              learning_rate=1e-3, eval_iters=200, n_embd=64, n_head=4,\n",
    "              n_layer=4, dropout=0.0):\n",
    "    device = 'cuda' if torch.cuda.is_available() else 'cpu'\n",
    "    torch.manual_seed(1337)\n",
    "\n",
    "    # wget https://raw.githubusercontent.com/karpathy/char-rnn/master/data/tinyshakespeare/input.txt\n",
    "    with open('input.txt', 'r', encoding='utf-8') as f:\n",
    "        text = f.read()\n",
    "\n",
    "    # here are all the unique characters that occur in this text\n",
    "    chars = sorted(list(set(text)))\n",
    "    vocab_size = len(chars)\n",
    "    # create a mapping from characters to integers\n",
    "    stoi = { ch:i for i,ch in enumerate(chars) }\n",
    "    itos = { i:ch for i,ch in enumerate(chars) }\n",
    "    encode = lambda s: [stoi[c] for c in s] \n",
    "    decode = lambda l: ''.join([itos[i] for i in l]) \n",
    "\n",
    "    # Train and test splits\n",
    "    data = torch.tensor(encode(text), dtype=torch.long)\n",
    "    n = int(0.9*len(data)) # first 90% will be train, rest val\n",
    "    train_data = data[:n]\n",
    "    val_data = data[n:]\n",
    "\n",
    "    # data loading\n",
    "    def get_batch(split):\n",
    "        # generate a small batch of data of inputs x and targets y\n",
    "        data = train_data if split == 'train' else val_data\n",
    "        ix = torch.randint(len(data) - block_size, (batch_size,))\n",
    "        x = torch.stack([data[i:i+block_size] for i in ix])\n",
    "        y = torch.stack([data[i+1:i+block_size+1] for i in ix])\n",
    "        x, y = x.to(device), y.to(device)\n",
    "        return x, y\n",
    "\n",
    "    @torch.no_grad()\n",
    "    def estimate_loss():\n",
    "        out = {}\n",
    "        model.eval()\n",
    "        for split in ['train', 'val']:\n",
    "            losses = torch.zeros(eval_iters)\n",
    "            for k in range(eval_iters):\n",
    "                X, Y = get_batch(split)\n",
    "                logits, loss = model(X, Y)\n",
    "                losses[k] = loss.item()\n",
    "            out[split] = losses.mean()\n",
    "        model.train()\n",
    "        return out\n",
    "\n",
    "    class Head(nn.Module):\n",
    "        \"\"\" one head of self-attention \"\"\"\n",
    "\n",
    "        def __init__(self, head_size):\n",
    "            super().__init__()\n",
    "            self.key = nn.Linear(n_embd, head_size, bias=False)\n",
    "            self.query = nn.Linear(n_embd, head_size, bias=False)\n",
    "            self.value = nn.Linear(n_embd, head_size, bias=False)\n",
    "            self.register_buffer('tril', torch.tril(torch.ones(block_size, block_size)))\n",
    "\n",
    "            self.dropout = nn.Dropout(dropout)\n",
    "\n",
    "        def forward(self, x):\n",
    "            B,T,C = x.shape\n",
    "            k = self.key(x)   # (B,T,C)\n",
    "            q = self.query(x) # (B,T,C)\n",
    "            # compute attention scores (\"affinities\")\n",
    "            wei = q @ k.transpose(-2,-1) * C**-0.5 # (B, T, C) @ (B, C, T) -> (B, T, T)\n",
    "            wei = wei.masked_fill(self.tril[:T, :T] == 0, float('-inf')) # (B, T, T)\n",
    "            wei = F.softmax(wei, dim=-1) # (B, T, T)\n",
    "            wei = self.dropout(wei)\n",
    "            # perform the weighted aggregation of the values\n",
    "            v = self.value(x) # (B,T,C)\n",
    "            out = wei @ v # (B, T, T) @ (B, T, C) -> (B, T, C)\n",
    "            return out\n",
    "\n",
    "    class MultiHeadAttention(nn.Module):\n",
    "        \"\"\" multiple heads of self-attention in parallel \"\"\"\n",
    "\n",
    "        def __init__(self, num_heads, head_size):\n",
    "            super().__init__()\n",
    "            self.heads = nn.ModuleList([Head(head_size) for _ in range(num_heads)])\n",
    "            self.proj = nn.Linear(n_embd, n_embd)\n",
    "            self.dropout = nn.Dropout(dropout)\n",
    "\n",
    "        def forward(self, x):\n",
    "            out = torch.cat([h(x) for h in self.heads], dim=-1)\n",
    "            out = self.dropout(self.proj(out))\n",
    "            return out\n",
    "\n",
    "    class FeedFoward(nn.Module):\n",
    "\n",
    "        def __init__(self, n_embd):\n",
    "            super().__init__()\n",
    "            self.net = nn.Sequential(\n",
    "                nn.Linear(n_embd, 4 * n_embd),\n",
    "                nn.ReLU(),\n",
    "                nn.Linear(4 * n_embd, n_embd),\n",
    "                nn.Dropout(dropout),\n",
    "            )\n",
    "\n",
    "        def forward(self, x):\n",
    "            return self.net(x)\n",
    "\n",
    "    class Block(nn.Module):\n",
    "        \"\"\" Transformer block: communication followed by computation \"\"\"\n",
    "\n",
    "        def __init__(self, n_embd, n_head):\n",
    "            super().__init__()\n",
    "            head_size = n_embd // n_head\n",
    "            self.sa = MultiHeadAttention(n_head, head_size)\n",
    "            self.ffwd = FeedFoward(n_embd)\n",
    "            self.ln1 = nn.LayerNorm(n_embd)\n",
    "            self.ln2 = nn.LayerNorm(n_embd)\n",
    "\n",
    "        def forward(self, x):\n",
    "            x = x + self.sa(self.ln1(x))\n",
    "            x = x + self.ffwd(self.ln2(x))\n",
    "            return x\n",
    "\n",
    "    # super simple bigram model\n",
    "    class BigramLanguageModel(nn.Module):\n",
    "\n",
    "        def __init__(self):\n",
    "            super().__init__()\n",
    "            self.token_embedding_table = nn.Embedding(vocab_size, n_embd)\n",
    "            self.position_embedding_table = nn.Embedding(block_size, n_embd)\n",
    "            self.blocks = nn.Sequential(*[Block(n_embd, n_head=n_head) for _ in range(n_layer)])\n",
    "            self.ln_f = nn.LayerNorm(n_embd) # final layer norm\n",
    "            self.lm_head = nn.Linear(n_embd, vocab_size)\n",
    "\n",
    "        def forward(self, idx, targets=None):\n",
    "            B, T = idx.shape\n",
    "            tok_emb = self.token_embedding_table(idx) # (B,T,C)\n",
    "            pos_emb = self.position_embedding_table(torch.arange(T, device=device)) # (T,C)\n",
    "            x = tok_emb + pos_emb # (B,T,C)\n",
    "            x = self.blocks(x) # (B,T,C)\n",
    "            x = self.ln_f(x) # (B,T,C)\n",
    "            logits = self.lm_head(x) # (B,T,vocab_size)\n",
    "\n",
    "            if targets is None:\n",
    "                loss = None\n",
    "            else:\n",
    "                B, T, C = logits.shape\n",
    "                logits = logits.view(B*T, C)\n",
    "                targets = targets.view(B*T)\n",
    "                loss = F.cross_entropy(logits, targets)\n",
    "\n",
    "            return logits, loss\n",
    "\n",
    "        def generate(self, idx, max_new_tokens):\n",
    "            # idx is (B, T) array of indices in the current context\n",
    "            for _ in range(max_new_tokens):\n",
    "                # crop idx to the last block_size tokens\n",
    "                idx_cond = idx[:, -block_size:]\n",
    "                # get the predictions\n",
    "                logits, loss = self(idx_cond)\n",
    "                # focus only on the last time step\n",
    "                logits = logits[:, -1, :] # becomes (B, C)\n",
    "                # apply softmax to get probabilities\n",
    "                probs = F.softmax(logits, dim=-1) # (B, C)\n",
    "                # sample from the distribution\n",
    "                idx_next = torch.multinomial(probs, num_samples=1) # (B, 1)\n",
    "                # append sampled index to the running sequence\n",
    "                idx = torch.cat((idx, idx_next), dim=1) # (B, T+1)\n",
    "            return idx\n",
    "\n",
    "    model = BigramLanguageModel()\n",
    "    m = model.to(device)\n",
    "    # print the number of parameters in the model\n",
    "    print(sum(p.numel() for p in m.parameters())/1e6, 'M parameters')\n",
    "\n",
    "    # create a PyTorch optimizer\n",
    "    optimizer = torch.optim.AdamW(model.parameters(), lr=learning_rate)\n",
    "\n",
    "    for iter in range(max_iters):\n",
    "\n",
    "        # every once in a while evaluate the loss on train and val sets\n",
    "        if iter % eval_interval == 0 or iter == max_iters - 1:\n",
    "            losses = estimate_loss()\n",
    "            print(f\"step {iter}: train loss {losses['train']:.4f}, val loss {losses['val']:.4f}\")\n",
    "\n",
    "        # sample a batch of data\n",
    "        xb, yb = get_batch('train')\n",
    "\n",
    "        # evaluate the loss\n",
    "        logits, loss = model(xb, yb)\n",
    "        optimizer.zero_grad(set_to_none=True)\n",
    "        loss.backward()\n",
    "        optimizer.step()\n",
    "\n",
    "    # generate from the model\n",
    "    context = torch.zeros((1, 1), dtype=torch.long, device=device)\n",
    "    print(decode(m.generate(context, max_new_tokens=2000)[0].tolist()))"
   ]
  },
  {
   "cell_type": "markdown",
   "id": "6b501bd1",
   "metadata": {},
   "source": [
    "## Fine tuning the model with parameters"
   ]
  },
  {
   "cell_type": "markdown",
   "id": "7f559467",
   "metadata": {},
   "source": [
    "### Step 1: Setting baseline/benchmark\n",
    "Executed with just the base parameters from the repository and will be used as the baseline"
   ]
  },
  {
   "cell_type": "code",
   "execution_count": 23,
   "id": "62000ba1",
   "metadata": {
    "ExecuteTime": {
     "end_time": "2023-06-10T16:48:19.244880Z",
     "start_time": "2023-06-10T16:42:07.916487Z"
    }
   },
   "outputs": [
    {
     "name": "stdout",
     "output_type": "stream",
     "text": [
      "0.209729 M parameters\n",
      "step 0: train loss 4.4116, val loss 4.4022\n",
      "step 100: train loss 2.6568, val loss 2.6670\n",
      "step 200: train loss 2.5090, val loss 2.5058\n",
      "step 300: train loss 2.4194, val loss 2.4335\n",
      "step 400: train loss 2.3505, val loss 2.3569\n",
      "step 500: train loss 2.2965, val loss 2.3129\n",
      "step 600: train loss 2.2410, val loss 2.2500\n",
      "step 700: train loss 2.2047, val loss 2.2186\n",
      "step 800: train loss 2.1635, val loss 2.1868\n",
      "step 900: train loss 2.1238, val loss 2.1503\n",
      "step 1000: train loss 2.1024, val loss 2.1289\n",
      "step 1100: train loss 2.0705, val loss 2.1189\n",
      "step 1200: train loss 2.0396, val loss 2.0808\n",
      "step 1300: train loss 2.0243, val loss 2.0631\n",
      "step 1400: train loss 1.9928, val loss 2.0369\n",
      "step 1500: train loss 1.9699, val loss 2.0306\n",
      "step 1600: train loss 1.9627, val loss 2.0476\n",
      "step 1700: train loss 1.9412, val loss 2.0150\n",
      "step 1800: train loss 1.9098, val loss 1.9967\n",
      "step 1900: train loss 1.9082, val loss 1.9873\n",
      "step 2000: train loss 1.8838, val loss 1.9931\n",
      "step 2100: train loss 1.8734, val loss 1.9754\n",
      "step 2200: train loss 1.8621, val loss 1.9638\n",
      "step 2300: train loss 1.8550, val loss 1.9528\n",
      "step 2400: train loss 1.8423, val loss 1.9425\n",
      "step 2500: train loss 1.8172, val loss 1.9422\n",
      "step 2600: train loss 1.8302, val loss 1.9399\n",
      "step 2700: train loss 1.8168, val loss 1.9368\n",
      "step 2800: train loss 1.8013, val loss 1.9212\n",
      "step 2900: train loss 1.8052, val loss 1.9309\n",
      "step 3000: train loss 1.7970, val loss 1.9192\n",
      "step 3100: train loss 1.7700, val loss 1.9176\n",
      "step 3200: train loss 1.7499, val loss 1.9045\n",
      "step 3300: train loss 1.7564, val loss 1.9046\n",
      "step 3400: train loss 1.7589, val loss 1.8987\n",
      "step 3500: train loss 1.7387, val loss 1.8945\n",
      "step 3600: train loss 1.7267, val loss 1.8880\n",
      "step 3700: train loss 1.7284, val loss 1.8812\n",
      "step 3800: train loss 1.7209, val loss 1.8883\n",
      "step 3900: train loss 1.7241, val loss 1.8776\n",
      "step 4000: train loss 1.7136, val loss 1.8592\n",
      "step 4100: train loss 1.7108, val loss 1.8684\n",
      "step 4200: train loss 1.7077, val loss 1.8647\n",
      "step 4300: train loss 1.7007, val loss 1.8449\n",
      "step 4400: train loss 1.7053, val loss 1.8586\n",
      "step 4500: train loss 1.6878, val loss 1.8450\n",
      "step 4600: train loss 1.6867, val loss 1.8314\n",
      "step 4700: train loss 1.6836, val loss 1.8416\n",
      "step 4800: train loss 1.6687, val loss 1.8445\n",
      "step 4900: train loss 1.6717, val loss 1.8331\n",
      "step 4999: train loss 1.6647, val loss 1.8235\n",
      "\n",
      "And they bride with that yet King thou was to take Ourtuned?\n",
      "It us bartht he usque, to bardetle\n",
      "Hate away, my fears' comzorm he owns,\n",
      "Hof is heart milending, and if ensent,\n",
      "A latistriviov the does me now on you so, like die; litthus wonchiry:\n",
      "Auf the speak you love's nor\n",
      "To this deserving would that\n",
      "To Winsught their as to them, His The shire\n",
      "And Let were to\n",
      "To knom thrugh fir tression must wind.\n",
      "\n",
      "MUKENIUS:\n",
      "Marry, I hom.\n",
      "\n",
      "HENRY BOLINGBROY:\n",
      "\n",
      "Shose Warwick, stavoin cour and teyerry to-chan you!\n",
      "My firders, I mary thou contrantym of a cemmiev-sent,\n",
      "For swittle and whom the head not\n",
      "us body. I much friencess,--cas lord\n",
      "In as dettured themseled Peepent:\n",
      "Is Lady pass\n",
      "Let our graive troye so upon sure fear tall:\n",
      "Whith I sheall night, sir, I do,\n",
      "To may I want beakes againce uncest the leve bunlown'd thos welcont.\n",
      "\n",
      "QUEEN FIY:\n",
      "In unhild.\n",
      "\n",
      "KING HENRY Gentleman?\n",
      "By sevence of time the shopet eyest of Romytan's whom that that saw\n",
      "And liell made that O\n",
      "For fightlly that it\n",
      "In the glette;\n",
      "you wellough, I am with you,\n",
      "For I hursend; gentle up\n",
      "And hid spingditance and to you or love\n",
      "As be ressitions so me worting.\n",
      "\n",
      "GRUMIO:\n",
      "O thus favett now,\n",
      "An but branedy wouldIng my allied.\n",
      "\n",
      "PORINIUS:\n",
      "Love Pennery, blame, to libean thing breamn'd my have eath I die;\n",
      "Save thou for He wherth our hasts.\n",
      "Let, forther of just defevold;\n",
      "Mad there'd hears subs nithily.\n",
      "\n",
      "SBRAKEN:\n",
      "A dongurlate your heavy begut;\n",
      "Good vonby the town, must a belinence.\n",
      "\n",
      "Me I andnam Gom Three:\n",
      "Thy, delet! Here sove you,\n",
      "But won ullishered, smes on.\n",
      "\n",
      "HERMIORTEM:\n",
      "O, say, as If have to kavil scace:\n",
      "Out.\n",
      "\n",
      "PORANNIA:\n",
      "By, farew-rist are gentlecy prevons dead thy path'd that to both may\n",
      "And wound arwill-say I, give affitely,\n",
      "Fhirst more is Prove at take tway,\n",
      "And then-strough longed with that I races of the hamonglings?\n",
      "\n",
      "LADY BOLYCUS:\n",
      "What befair, But I hort.\n",
      "\n",
      "ANGELO:\n",
      "First: life he putilt our side thee, our knong of answeet.\n",
      "\n",
      "MENMARDIUS:\n",
      "You nseat, Joar at Vence stan, Jurion patient:\n",
      "In is shown's fortunds, such I he have wongra\n",
      "Marr\n"
     ]
    }
   ],
   "source": [
    "nano_GPT()"
   ]
  },
  {
   "cell_type": "markdown",
   "id": "399264dc",
   "metadata": {},
   "source": [
    "During the process of fine-tuning the nanoGPT model, we made adjustments to various hyperparameters in order to enhance the quality of the generated samples. Initially, we used a batch size of 16 and a block size of 32, along with other specific settings for the learning rate, embedding size, number of attention heads, and layers.\n",
    "\n",
    "After training the model with these hyperparameters, we observed that the loss values gradually decreased over the course of training, reaching a final value of 1.6647 for the training loss and 1.8235 for the validation loss at step 4999. The entire training process took approximately 6 minutes and 11 seconds, which was quite reasonable.\n",
    "\n",
    "However, despite these improvements, the generated samples still lacked coherence and contained nonsensical phrases. Here's an example of the output:\n",
    "\n",
    "> \"And they bride with that yet King thou was to take Ourtuned? It us bartht he usque, to bardetle Hate away, my fears' comzorm he owns, Hof is heart milending, and if ensent, A latistriviov the does me now on you so, like die; litthus wonchiry: Auf the speak you love's nor To this deserving would that To Winsught their as to them, His The shire And Let were to To knom thrugh fir tression must wind.\"\n",
    "\n",
    "These generated samples indicate that further adjustments are needed to improve the coherence and naturalness of the generated text. While the initial hyperparameter settings showed some progress, it's evident that additional fine-tuning or modifications may be necessary to achieve more human-like outputs.\n",
    "\n",
    "I've read some Shakespeare but I'm not sure what language this model's speaking at the moment. Makes me wonder whether or not you can use suboptimal models to come up with fictional languages in fantasy stories or something."
   ]
  },
  {
   "cell_type": "markdown",
   "id": "c092d908",
   "metadata": {},
   "source": [
    "### Step 2: Finetuning itself\n",
    "Let's see in what ways playing with the parameters canst enhance thy model's performance!"
   ]
  },
  {
   "cell_type": "markdown",
   "id": "8e0e2e96",
   "metadata": {},
   "source": [
    "#### First attempt"
   ]
  },
  {
   "cell_type": "code",
   "execution_count": 28,
   "id": "d1d856e0",
   "metadata": {
    "ExecuteTime": {
     "end_time": "2023-06-11T14:54:00.152138Z",
     "start_time": "2023-06-11T14:36:56.670661Z"
    }
   },
   "outputs": [
    {
     "name": "stdout",
     "output_type": "stream",
     "text": [
      "0.215873 M parameters\n",
      "step 0: train loss 4.3519, val loss 4.3466\n",
      "step 200: train loss 2.3973, val loss 2.4120\n",
      "step 400: train loss 2.1847, val loss 2.2275\n",
      "step 600: train loss 2.0205, val loss 2.0845\n",
      "step 800: train loss 1.8880, val loss 1.9965\n",
      "step 1000: train loss 1.8060, val loss 1.9360\n",
      "step 1200: train loss 1.7500, val loss 1.8981\n",
      "step 1400: train loss 1.7169, val loss 1.8683\n",
      "step 1600: train loss 1.6902, val loss 1.8416\n",
      "step 1800: train loss 1.6586, val loss 1.8097\n",
      "step 2000: train loss 1.6395, val loss 1.8056\n",
      "step 2200: train loss 1.6261, val loss 1.7886\n",
      "step 2400: train loss 1.6072, val loss 1.7776\n",
      "step 2600: train loss 1.5970, val loss 1.7691\n",
      "step 2800: train loss 1.5871, val loss 1.7552\n",
      "step 3000: train loss 1.5761, val loss 1.7457\n",
      "step 3200: train loss 1.5639, val loss 1.7444\n",
      "step 3400: train loss 1.5580, val loss 1.7523\n",
      "step 3600: train loss 1.5515, val loss 1.7245\n",
      "step 3800: train loss 1.5452, val loss 1.7272\n",
      "step 4000: train loss 1.5351, val loss 1.7184\n",
      "step 4200: train loss 1.5308, val loss 1.7123\n",
      "step 4400: train loss 1.5255, val loss 1.7047\n",
      "step 4600: train loss 1.5209, val loss 1.7037\n",
      "step 4800: train loss 1.5128, val loss 1.7002\n",
      "step 5000: train loss 1.5104, val loss 1.6915\n",
      "step 5200: train loss 1.5039, val loss 1.6896\n",
      "step 5400: train loss 1.5034, val loss 1.6914\n",
      "step 5600: train loss 1.4982, val loss 1.6827\n",
      "step 5800: train loss 1.4944, val loss 1.6763\n",
      "step 6000: train loss 1.4909, val loss 1.6761\n",
      "step 6200: train loss 1.4868, val loss 1.6718\n",
      "step 6400: train loss 1.4853, val loss 1.6726\n",
      "step 6600: train loss 1.4857, val loss 1.6652\n",
      "step 6800: train loss 1.4815, val loss 1.6614\n",
      "step 7000: train loss 1.4799, val loss 1.6694\n",
      "step 7200: train loss 1.4779, val loss 1.6670\n",
      "step 7400: train loss 1.4715, val loss 1.6615\n",
      "step 7600: train loss 1.4638, val loss 1.6434\n",
      "step 7800: train loss 1.4629, val loss 1.6503\n",
      "step 8000: train loss 1.4665, val loss 1.6496\n",
      "step 8200: train loss 1.4633, val loss 1.6407\n",
      "step 8400: train loss 1.4604, val loss 1.6407\n",
      "step 8600: train loss 1.4666, val loss 1.6418\n",
      "step 8800: train loss 1.4565, val loss 1.6384\n",
      "step 9000: train loss 1.4547, val loss 1.6425\n",
      "step 9200: train loss 1.4536, val loss 1.6494\n",
      "step 9400: train loss 1.4580, val loss 1.6417\n",
      "step 9600: train loss 1.4507, val loss 1.6378\n",
      "step 9800: train loss 1.4526, val loss 1.6471\n",
      "step 9999: train loss 1.4519, val loss 1.6375\n",
      "\n",
      "The glarrify, my dead, how eatily these,\n",
      "I'll the dreig at shall you friend an I\n",
      "Richards in a petty minestion; to five that prish; I she;\n",
      "She's ronoud own- Aument win where the to brother a would spest\n",
      "Desence.\n",
      "\n",
      "PETER:\n",
      "A beat is she chrince baland hate ever eighed?\n",
      "\n",
      "COMINGS:\n",
      "Sinc not, it he not day, like know sonsel's cloud!\n",
      "Had my brink? sing of un facke, ill do-beare.\n",
      "\n",
      "PETAS:\n",
      "Fear somes not fear; more's himour's no were helse\n",
      "Of rembend but he kingly nail! I mu us you fie\n",
      "Ay, he standium at against and no can serve aitor,\n",
      "As his words wherein are husbe and he own but\n",
      "That, genentleman: when, God at the hight svern'st\n",
      "I servies on; he'sew and redd thy than glife.\n",
      "\n",
      "KING HENRY VI:\n",
      "My tY Lord in where, from for he in Chan's\n",
      "The fance, musinad hear i' hearting to his good,\n",
      "The pedients offence can abore the keep\n",
      "That a mers ere brother creen\n",
      "They may! Was you that wilt to ere unturnent,\n",
      "Which I heer is abring oppose. Comis, here\n",
      "down he with the tarres, to-heard or my qreasurent of his\n",
      "brother leave defen and hath accesle that censible hit,\n",
      "That shows: them the is was feea, lew their sotlors\n",
      "Merrow much unloy.'\n",
      "\n",
      "CORIOLANUS:\n",
      "Forbunt I, what speaks gentlement, fain, title me.\n",
      "\n",
      "MENENIUS:\n",
      "I Peace?\n",
      "\n",
      "COMINIO:\n",
      "The look the will this for my life\n",
      "Art the of brotHer hoart. But hither you\n",
      "befood the seast of the atting reworn's nay,\n",
      "You was knoble in etters agare his acquection\n",
      "Rould prove good or unmannered agains, I haved gentle;\n",
      "I, well the good smally abose ur from the fresemnants\n",
      "Stringolding hencledne ten his dise and lesisped?\n",
      "\n",
      "WARWICK:\n",
      "Glow to was O name-tiger nature Suppet sent full\n",
      "Came; I proclent that be heir? Now he hand, you mine.\n",
      "I cuty, some to be night.\n",
      "What, one Rome! he againt that he streal I say of mine\n",
      "I may gracive kinds, and and being to be viorts!-\n",
      "MoRCuss?\n",
      "\n",
      "GEORIOL:\n",
      "Well thou know thy due who you, letth aid and\n",
      "Their easured Fromment, it the spch's he filts, one\n",
      "I may my resourt mycome for you;\n",
      "Here say wheve the earts, we'll so go that sweat\n",
      "Friend one\n"
     ]
    }
   ],
   "source": [
    "nano_GPT(batch_size=32, block_size=128, max_iters=10000, eval_interval=200,\n",
    "learning_rate=5e-3, eval_iters=400, n_embd=64, n_head=8,\n",
    "n_layer=4, dropout=0.2)"
   ]
  },
  {
   "cell_type": "markdown",
   "id": "bb112ca6",
   "metadata": {},
   "source": [
    "In this scenario, the batch size is increased to 32, the block size is increased to 128, and the number of heads is increased to 8. Additionally, the number of layers remains at 4, and dropout with a rate of 0.2 is added.\n",
    "\n",
    "The last iteration presented this `step 9999: train loss 1.4519, val loss 1.6375`. Better numbers however on the generated text....\n",
    "\n",
    "I honestly don't know what I'm reading. Live long and prosper. Valar morghulis. To the model's credit it is generating content that <i>resemble</i> conversations and words, but is still struggling. What was generated seems more like if someone completely unfamiliar with English suddenly tried to \"draw\" English text."
   ]
  },
  {
   "cell_type": "code",
   "execution_count": 29,
   "id": "a87a9fac",
   "metadata": {
    "ExecuteTime": {
     "end_time": "2023-06-11T17:26:05.145768Z",
     "start_time": "2023-06-11T14:54:00.159095Z"
    }
   },
   "outputs": [
    {
     "name": "stdout",
     "output_type": "stream",
     "text": [
      "0.423233 M parameters\n",
      "step 0: train loss 4.3897, val loss 4.3945\n",
      "step 1000: train loss 1.6204, val loss 1.7797\n",
      "step 2000: train loss 1.4688, val loss 1.6519\n",
      "step 3000: train loss 1.4147, val loss 1.6089\n",
      "step 4000: train loss 1.3782, val loss 1.5806\n",
      "step 5000: train loss 1.3555, val loss 1.5709\n",
      "step 6000: train loss 1.3381, val loss 1.5585\n",
      "step 7000: train loss 1.3257, val loss 1.5542\n",
      "step 8000: train loss 1.3148, val loss 1.5490\n",
      "step 9000: train loss 1.3042, val loss 1.5387\n",
      "step 10000: train loss 1.2998, val loss 1.5452\n",
      "step 11000: train loss 1.2906, val loss 1.5247\n",
      "step 12000: train loss 1.2832, val loss 1.5256\n",
      "step 13000: train loss 1.2785, val loss 1.5201\n",
      "step 14000: train loss 1.2716, val loss 1.5225\n",
      "step 15000: train loss 1.2717, val loss 1.5183\n",
      "step 16000: train loss 1.2649, val loss 1.5050\n",
      "step 17000: train loss 1.2619, val loss 1.5021\n",
      "step 18000: train loss 1.2634, val loss 1.5116\n",
      "step 19000: train loss 1.2573, val loss 1.5001\n",
      "step 19999: train loss 1.2534, val loss 1.5092\n",
      "\n",
      "KING EDWARD IV:\n",
      "Arise my good lord? what voasit march the heaver?\n",
      "\n",
      "GLOUCESTER:\n",
      "Ster, Lewishton him see anot, what is London sun,\n",
      "Quing as a citain time, to Senaliny,\n",
      "I had not fair thought it; but I do mutite touch,\n",
      "And, that is he a long sweish threaven may false in to\n",
      "come, one him, or a princely the here in these.\n",
      "\n",
      "QUEEN ELBARD\n",
      "The earthle and all turn Parde for Humbliace.\n",
      "3 KING HEry Vilera delivers upon my subjest;\n",
      "And, no more swiftort for your wises, for with it\n",
      "I amiditie standly her every our dates;\n",
      "And art may take a deprect of thence umhane.\n",
      "Madam, sit of my heart upon the horsel ean.\n",
      "\n",
      "UKE VINCENCE:\n",
      "I call her soldier commends!\n",
      "O nor imallo, thou hopess, hast been madain\n",
      "Before I move tribund to stand this mine kind\n",
      "Of thy aske to extrumesty repretite,\n",
      "So let palace that I presast. Give me men'd blemight.\n",
      "\n",
      "This:\n",
      "Hyow are seed the comensce.' Come, of the whot!\n",
      "Once citizen this surp, marre to me, heare Death,\n",
      "When accepts hold the more from dreams the fools\n",
      "Leish sees it to, as it of mine own of Encepture:\n",
      "Do foes, sit, my lord, to be many hit more,\n",
      "Than the wold I wise pitch followers. Lo, for my Lord;\n",
      "From my life: I do, it love my learness,\n",
      "We foe to for possible he of Rome frome morgetine;\n",
      "Both love on he had before drives, one of the gate\n",
      "Do him harthy relvering foref by the too\n",
      "An eyet to be you, thou slay yound thine field;\n",
      "It seery of Lord fresh marries leavin to this\n",
      "Befixt him a mockarged valintainate.\n",
      "\n",
      "LADY ANNE:\n",
      "O marchance the Ployal will come hips of mear,\n",
      "To betide not the house of Ladyel, but of in hours,\n",
      "And lords hath splaced me to angry Angelo,\n",
      "And conceaerly writh her devil; forsight this be\n",
      "That I am play me bing to have beding an,\n",
      "And I say this prophets it the cars,\n",
      "I bear a happpokinted very drom to for true,\n",
      "I would, hie will. Shame too her, madam!\n",
      "But you be not betake, camedion.\n",
      "\n",
      "VAUG HORCARD:\n",
      "Whenher, madam, is't for the day rudge of a\n",
      "stanspaster? The execution for seem's hand acciden\n",
      "Your stame, of the procunting of appearle's\n"
     ]
    }
   ],
   "source": [
    "nano_GPT(batch_size=64, block_size=256, max_iters=20000, eval_interval=1000,\n",
    "learning_rate=5e-3, eval_iters=2000, n_embd=64, n_head=16,\n",
    "n_layer=8, dropout=0.2)"
   ]
  },
  {
   "attachments": {
    "image.png": {
     "image/png": "[encoded data removed]"
    }
   },
   "cell_type": "markdown",
   "id": "2538b6a8",
   "metadata": {},
   "source": [
    "In this scenario, the batch size is further increased to 64, the block size is increased to 256, and the number of heads is increased to 16. The number of layers is increased to 8, while dropout remains at 0.2.\n",
    "\n",
    "These adjustments aim to explore the impact of larger batch sizes, increased block sizes, and higher numbers of layers and heads. It is important to note that these choices may result in longer runtimes and increased memory requirements.\n",
    "\n",
    "After a grueling `2h 32m 5s`, this run ended with a train loss of `1.2534` and validation loss of `1.5092`.\n",
    "\n",
    "In exchange for much longer runtimes, I was returned something that somewhat actually resembled English.\n",
    "\n",
    "Just imagine this kind of vibe from this conversation:\n",
    "![image.png](attachment:image.png)"
   ]
  },
  {
   "cell_type": "markdown",
   "id": "523b0203",
   "metadata": {
    "ExecuteTime": {
     "start_time": "2023-05-27T16:49:35.557Z"
    }
   },
   "source": [
    "### Step 3: Conclusion"
   ]
  },
  {
   "cell_type": "markdown",
   "id": "8b088aac",
   "metadata": {},
   "source": [
    "In conclusion, the process of fine-tuning the nanoGPT model involved iteratively adjusting various hyperparameters to improve the quality of the generated samples. We started with the baseline parameters provided in the repository, which served as our initial benchmark. However, the generated samples from the baseline model still lacked coherence and often contained nonsensical phrases.\n",
    "\n",
    "To address this, we made successive modifications to the hyperparameters, such as increasing the batch size, block size, number of heads, layers, and dropout rate. These adjustments aimed to capture more complex patterns in the data and improve the model's ability to generate coherent English text.\n",
    "\n",
    "The first attempt at fine-tuning resulted in improved loss values, indicating that the model was learning from the data more effectively. However, the generated samples still exhibited limited coherence and naturalness, resembling a language that was unfamiliar with English.\n",
    "\n",
    "In the subsequent iteration, we further increased the batch size, block size, and the number of heads, layers, and dropout rate. This led to a longer training time of 17 minutes and 3 seconds. The generated samples showed some improvement in coherence and resemblance to English conversations, although they still fell short of being truly human-like.\n",
    "\n",
    "Finally, we experimented with an even larger configuration by increasing the batch size to 64, block size to 256, and significantly increasing the number of heads and layers. This resulted in a substantial runtime of 2 hours, 32 minutes, and 5 seconds. The generated samples showed further improvement and started to resemble coherent English text, although they still contained occasional nonsensical phrases and lacked full fluency.\n",
    "\n",
    "Overall, the process of fine-tuning the nanoGPT model involved a trade-off between runtime, model complexity, and the quality of generated samples. While there were notable improvements in the coherence and naturalness of the generated text, achieving truly human-like outputs still remains a challenge. Further fine-tuning and adjustments may be necessary to continue enhancing the model's performance and generate more accurate and fluent language, with more technological resources. Nothing personal with Jojie, she's probably working very, very hard."
   ]
  },
  {
   "cell_type": "markdown",
   "id": "965f66a2",
   "metadata": {
    "ExecuteTime": {
     "start_time": "2023-05-27T15:06:23.827Z"
    }
   },
   "source": [
    "## Generative AI Documentation"
   ]
  },
  {
   "cell_type": "markdown",
   "id": "da1d8ced",
   "metadata": {
    "ExecuteTime": {
     "start_time": "2023-05-27T15:08:48.578Z"
    }
   },
   "source": [
    "I used ChatGPT to:\n",
    "- Articulate myself better\n",
    "- Ask for more clarifications on things I wasn't sure of"
   ]
  },
  {
   "cell_type": "markdown",
   "id": "a0f6c905",
   "metadata": {
    "ExecuteTime": {
     "start_time": "2023-05-27T15:13:18.214Z"
    }
   },
   "source": [
    "## References "
   ]
  },
  {
   "cell_type": "markdown",
   "id": "a7ab7a70",
   "metadata": {
    "ExecuteTime": {
     "start_time": "2023-05-27T15:59:16.062Z"
    }
   },
   "source": [
    "1. Karpathy, A. (2023, January 17). Let's build GPT: from scratch, in code, spelled out [Video file]. Retrieved from https://www.youtube.com/watch?v=kCc8FmEb1nY\n",
    "2. A beginner’s guide to language models. Built In. (n.d.). https://builtin.com/data-science/beginners-guide-language-models"
   ]
  }
 ],
 "metadata": {
  "kernelspec": {
   "display_name": "Python 3 (ipykernel)",
   "language": "python",
   "name": "python3"
  },
  "language_info": {
   "codemirror_mode": {
    "name": "ipython",
    "version": 3
   },
   "file_extension": ".py",
   "mimetype": "text/x-python",
   "name": "python",
   "nbconvert_exporter": "python",
   "pygments_lexer": "ipython3",
   "version": "3.9.12"
  }
 },
 "nbformat": 4,
 "nbformat_minor": 5
}
