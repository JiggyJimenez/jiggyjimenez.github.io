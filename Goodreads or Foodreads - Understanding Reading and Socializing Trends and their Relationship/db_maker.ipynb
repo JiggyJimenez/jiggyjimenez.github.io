{
 "cells": [
  {
   "cell_type": "markdown",
   "id": "368c00ab",
   "metadata": {},
   "source": [
    "# DMW 1 : Lab Report 1 Database"
   ]
  },
  {
   "cell_type": "markdown",
   "id": "8ad1b4a1",
   "metadata": {},
   "source": [
    "## Original Directories"
   ]
  },
  {
   "cell_type": "markdown",
   "id": "6db4b618",
   "metadata": {},
   "source": [
    "### Yelp"
   ]
  },
  {
   "cell_type": "code",
   "execution_count": 1,
   "id": "97d0d468",
   "metadata": {
    "scrolled": false
   },
   "outputs": [
    {
     "name": "stdout",
     "output_type": "stream",
     "text": [
      "total 13G\r\n",
      "-rw-r--r-- 1 3559 users  79K Feb 15  2022 Dataset_User_Agreement.pdf\r\n",
      "-rw-r--r-- 1 3559 users 114M Jan 19  2022 yelp_academic_dataset_business.json\r\n",
      "-rw-r--r-- 1 3559 users 274M Jan 19  2022 yelp_academic_dataset_checkin.json\r\n",
      "-rw-r--r-- 1 3559 users 5.0G Jan 19  2022 yelp_academic_dataset_review.json\r\n",
      "-rw-r--r-- 1 3559 users 173M Jan 19  2022 yelp_academic_dataset_tip.json\r\n",
      "-rw-r--r-- 1 3559 users 3.2G Jan 19  2022 yelp_academic_dataset_user.json\r\n",
      "-rw-rw-r-- 1 root root  4.1G Feb 24  2022 yelp_dataset.tgz\r\n"
     ]
    }
   ],
   "source": [
    "#Files to be used: business (full), checkin (full), review (sample)\n",
    "!ls -lh /mnt/data/public/yelp/20221007/yelp_dataset/"
   ]
  },
  {
   "cell_type": "markdown",
   "id": "f1142381",
   "metadata": {},
   "source": [
    "### Bookgraph"
   ]
  },
  {
   "cell_type": "code",
   "execution_count": 2,
   "id": "1c7a610c",
   "metadata": {},
   "outputs": [
    {
     "name": "stdout",
     "output_type": "stream",
     "text": [
      "total 17G\r\n",
      "-rw-rw-r-- 1 root root  37M Jul 11  2021 book_id_map.csv\r\n",
      "-rw-rw-r-- 1 root root  18M Jul 11  2021 goodreads_book_authors.json.gz\r\n",
      "-rw-rw-r-- 1 root root  98M Jul 11  2021 goodreads_books_children.json.gz\r\n",
      "-rw-rw-r-- 1 root root  66M Jul 11  2021 goodreads_books_comics_graphic.json.gz\r\n",
      "-rw-rw-r-- 1 root root  27M Jul 11  2021 goodreads_book_series.json.gz\r\n",
      "-rw-rw-r-- 1 root root 266M Jul 11  2021 goodreads_books_fantasy_paranormal.json.gz\r\n",
      "-rw-rw-r-- 1 root root 310M Jul 11  2021 goodreads_books_history_biography.json.gz\r\n",
      "-rw-rw-r-- 1 root root 2.0G Jul 11  2021 goodreads_books.json.gz\r\n",
      "-rw-rw-r-- 1 root root 220M Jul 11  2021 goodreads_books_mystery_thriller_crime.json.gz\r\n",
      "-rw-rw-r-- 1 root root  27M Jul 11  2021 goodreads_books_poetry.json.gz\r\n",
      "-rw-rw-r-- 1 root root 348M Jul 11  2021 goodreads_books_romance.json.gz\r\n",
      "-rw-rw-r-- 1 root root 100M Jul 11  2021 goodreads_books_young_adult.json.gz\r\n",
      "-rw-rw-r-- 1 root root  72M Jul 11  2021 goodreads_book_works.json.gz\r\n",
      "-rw-rw-r-- 1 root root 487M Jul 11  2021 goodreads_interactions_children.json.gz\r\n",
      "-rw-rw-r-- 1 root root 369M Jul 11  2021 goodreads_interactions_comics_graphic.json.gz\r\n",
      "-rw-rw-r-- 1 root root 4.1G Jul 11  2021 goodreads_interactions.csv\r\n",
      "-rw-rw-r-- 1 root root 2.7G Jul 11  2021 goodreads_interactions_fantasy_paranormal.json.gz\r\n",
      "-rw-rw-r-- 1 root root 1.6G Jul 11  2021 goodreads_interactions_history_biography.json.gz\r\n",
      "-rw-rw-r-- 1 root root 145M Jul 11  2021 goodreads_interactions_poetry.json.gz\r\n",
      "-rw-rw-r-- 1 root root 2.2G Jul 11  2021 goodreads_interactions_romance.json.gz\r\n",
      "-rw-rw-r-- 1 root root 1.8G Jul 11  2021 goodreads_interactions_young_adult.json.gz\r\n",
      "-rw-rw-r-- 1 root root  34M Jul 11  2021 user_id_map.csv\r\n"
     ]
    }
   ],
   "source": [
    "#Files to be used: books_romance (full), interactions_romance (sample)\n",
    "!ls -lh /mnt/data/public/bookgraph"
   ]
  },
  {
   "cell_type": "markdown",
   "id": "c7ba1818",
   "metadata": {},
   "source": [
    "## Database Creation"
   ]
  },
  {
   "cell_type": "code",
   "execution_count": 2,
   "id": "8e4bcdbe",
   "metadata": {},
   "outputs": [],
   "source": [
    "import sqlite3\n",
    "import pandas as pd\n",
    "import json\n",
    "import db_caller"
   ]
  },
  {
   "cell_type": "code",
   "execution_count": 3,
   "id": "0db55322",
   "metadata": {},
   "outputs": [],
   "source": [
    "# Get paths\n",
    "db_path = db_caller.connect(\"LR1.db\", path_only=True)\n",
    "yelp_path = \"/mnt/data/public/yelp/20221007/yelp_dataset/\"\n",
    "book_path = \"/mnt/data/public/bookgraph/\""
   ]
  },
  {
   "cell_type": "code",
   "execution_count": 4,
   "id": "797410a6",
   "metadata": {},
   "outputs": [],
   "source": [
    "conn = sqlite3.connect(db_path)"
   ]
  },
  {
   "cell_type": "markdown",
   "id": "c16708bd",
   "metadata": {},
   "source": [
    "### Yelp Data"
   ]
  },
  {
   "cell_type": "markdown",
   "id": "3b41b28e",
   "metadata": {},
   "source": [
    "#### Yelp: Checkin Data"
   ]
  },
  {
   "cell_type": "code",
   "execution_count": 6,
   "id": "9509dd9b",
   "metadata": {},
   "outputs": [],
   "source": [
    "# Read json file as DataFrame\n",
    "checkin_df = pd.read_json(yelp_path + \"yelp_academic_dataset_checkin.json\",\n",
    "                          lines=True)"
   ]
  },
  {
   "cell_type": "code",
   "execution_count": 8,
   "id": "6ba67010",
   "metadata": {},
   "outputs": [
    {
     "name": "stdout",
     "output_type": "stream",
     "text": [
      "Already in database.\n"
     ]
    }
   ],
   "source": [
    "# Add 'yelp_checkin' to database if not already there\n",
    "try:\n",
    "    checkin_df.to_sql('yelp_checkin',\n",
    "                      conn, if_exists='fail', index=False)\n",
    "except ValueError:\n",
    "    print('Already in database.')"
   ]
  },
  {
   "cell_type": "code",
   "execution_count": 7,
   "id": "045d815e",
   "metadata": {},
   "outputs": [],
   "source": [
    "# Reset variable\n",
    "checkin_df = None"
   ]
  },
  {
   "cell_type": "markdown",
   "id": "7e14e1cd",
   "metadata": {},
   "source": [
    "#### Yelp: Business Data"
   ]
  },
  {
   "cell_type": "code",
   "execution_count": 10,
   "id": "3aec4a06",
   "metadata": {},
   "outputs": [],
   "source": [
    "# Read json file as json object\n",
    "content = []\n",
    "for line in open(yelp_path + \"yelp_academic_dataset_business.json\", 'r'):\n",
    "    content.append(json.loads(line))"
   ]
  },
  {
   "cell_type": "code",
   "execution_count": 11,
   "id": "5d62dcb2",
   "metadata": {},
   "outputs": [],
   "source": [
    "# Read json object as a normalized DataFrame\n",
    "business_df = pd.json_normalize(content)"
   ]
  },
  {
   "cell_type": "code",
   "execution_count": 12,
   "id": "856c0685",
   "metadata": {},
   "outputs": [
    {
     "name": "stdout",
     "output_type": "stream",
     "text": [
      "Already in database.\n"
     ]
    }
   ],
   "source": [
    "# Add 'yelp_business' to database if not already there\n",
    "try:\n",
    "    business_df.to_sql('yelp_business',\n",
    "                       conn, if_exists='fail', index=False)\n",
    "except ValueError:\n",
    "    print('Already in database.')"
   ]
  },
  {
   "cell_type": "code",
   "execution_count": null,
   "id": "6e592dac",
   "metadata": {},
   "outputs": [],
   "source": [
    "# Reset variables\n",
    "business_df = None\n",
    "content = None"
   ]
  },
  {
   "cell_type": "markdown",
   "id": "93cc4a68",
   "metadata": {},
   "source": [
    "#### Yelp: Review Data (Sample)"
   ]
  },
  {
   "cell_type": "code",
   "execution_count": 5,
   "id": "0ade0ae6",
   "metadata": {},
   "outputs": [],
   "source": [
    "# Read json file as DataFrame every 1 million lines\n",
    "rev_dfs = []\n",
    "rev_chunk = pd.read_json(yelp_path + \"yelp_academic_dataset_review.json\",\n",
    "                         lines=True, chunksize=1_000_000)"
   ]
  },
  {
   "cell_type": "markdown",
   "id": "ddf8543b",
   "metadata": {},
   "source": [
    "**WARNING:** The following cell will take a long time to execute"
   ]
  },
  {
   "cell_type": "code",
   "execution_count": 6,
   "id": "98c3d635",
   "metadata": {
    "scrolled": true
   },
   "outputs": [],
   "source": [
    "# Get a random sample of 50,000 for every 1 million lines (~5% of total data)\n",
    "for rev_df in rev_chunk:\n",
    "    rev_dfs.append(rev_df.sample(50_000))"
   ]
  },
  {
   "cell_type": "code",
   "execution_count": 12,
   "id": "364b9741",
   "metadata": {},
   "outputs": [],
   "source": [
    "# Combine DataFrame chunks into 1\n",
    "review_df = pd.concat(rev_dfs)"
   ]
  },
  {
   "cell_type": "code",
   "execution_count": 13,
   "id": "aa5097c0",
   "metadata": {},
   "outputs": [],
   "source": [
    "# Add 'yelp_review' to database if not already there\n",
    "try:\n",
    "    review_df.to_sql('yelp_review',\n",
    "                     conn, if_exists='fail', index=False)\n",
    "except ValueError:\n",
    "    print('Already in database.')"
   ]
  },
  {
   "cell_type": "code",
   "execution_count": 14,
   "id": "245a1b52",
   "metadata": {},
   "outputs": [],
   "source": [
    "# Reset variables\n",
    "rev_dfs = None\n",
    "rev_df = None\n",
    "rev_chunk = None\n",
    "review_df = None"
   ]
  },
  {
   "cell_type": "markdown",
   "id": "81e6c9b8",
   "metadata": {},
   "source": [
    "### Bookgraph Data"
   ]
  },
  {
   "cell_type": "markdown",
   "id": "e4e38a68",
   "metadata": {},
   "source": [
    "#### Bookgraph: Romance Books Data"
   ]
  },
  {
   "cell_type": "code",
   "execution_count": 11,
   "id": "2e811c6a",
   "metadata": {},
   "outputs": [],
   "source": [
    "# Read json file as DataFrame every 10k lines\n",
    "rombooks_dfs = []\n",
    "rombooks_chunks = pd.read_json(book_path + \"goodreads_books_romance.json.gz\",\n",
    "                               lines=True, compression=\"gzip\",\n",
    "                               chunksize=10_000)"
   ]
  },
  {
   "cell_type": "code",
   "execution_count": 12,
   "id": "232174e1",
   "metadata": {},
   "outputs": [],
   "source": [
    "# Get only the specified columns\n",
    "features = [\"book_id\",\n",
    "            \"title\",\n",
    "            \"ratings_count\",\n",
    "            \"country_code\",\n",
    "            \"publication_year\",\n",
    "            \"publication_month\",\n",
    "            \"publication_day\",\n",
    "            \"is_ebook\"]\n",
    "\n",
    "for rombooks_df in rombooks_chunks:\n",
    "    rombooks_df = rombooks_df[features]\n",
    "    rombooks_dfs.append(rombooks_df)"
   ]
  },
  {
   "cell_type": "code",
   "execution_count": 13,
   "id": "29de5c91",
   "metadata": {},
   "outputs": [],
   "source": [
    "# Combine DataFrame chunks into 1\n",
    "romance_books_df = pd.concat(rombooks_dfs)"
   ]
  },
  {
   "cell_type": "code",
   "execution_count": 18,
   "id": "8c4f2226",
   "metadata": {},
   "outputs": [
    {
     "name": "stdout",
     "output_type": "stream",
     "text": [
      "Already in database.\n"
     ]
    }
   ],
   "source": [
    "# Add 'bookgraph_romance_books' to database if not already there\n",
    "try:\n",
    "    romance_books_df.to_sql('bookgraph_romance_books',\n",
    "                            conn, if_exists='fail', index=False)\n",
    "except ValueError:\n",
    "    print('Already in database.')"
   ]
  },
  {
   "cell_type": "code",
   "execution_count": null,
   "id": "0816257f",
   "metadata": {},
   "outputs": [],
   "source": [
    "# Reset variables\n",
    "rombooks_dfs = None\n",
    "rombooks_chunks = None\n",
    "features = None\n",
    "rombooks_df = None\n",
    "romance_books_df = None"
   ]
  },
  {
   "cell_type": "markdown",
   "id": "0e5e4e66",
   "metadata": {},
   "source": [
    "#### Bookgraph: Romance Book Interactions Data"
   ]
  },
  {
   "cell_type": "code",
   "execution_count": 72,
   "id": "e53bd256",
   "metadata": {},
   "outputs": [],
   "source": [
    "# Read json file as DataFrame every 1 million lines\n",
    "rom_dfs = []\n",
    "rom_chunk = pd.read_json(book_path + \"goodreads_interactions_romance.json.gz\",\n",
    "                         lines=True, compression=\"gzip\", chunksize=1_000_000)"
   ]
  },
  {
   "cell_type": "markdown",
   "id": "23cfd77c",
   "metadata": {},
   "source": [
    "**WARNING:** The following cell will take a long time to execute"
   ]
  },
  {
   "cell_type": "code",
   "execution_count": 73,
   "id": "960a1cd0",
   "metadata": {},
   "outputs": [],
   "source": [
    "# Get a random sample of 50,000 for every 1 million lines (~5% of total data)\n",
    "for rom_df in rom_chunk:\n",
    "    rom_dfs.append(rom_df.sample(50_000))"
   ]
  },
  {
   "cell_type": "code",
   "execution_count": 22,
   "id": "e0be5791",
   "metadata": {},
   "outputs": [
    {
     "name": "stdout",
     "output_type": "stream",
     "text": [
      "Already in database.\n"
     ]
    }
   ],
   "source": [
    "# Add 'bookgraph_romance_interactions' to database if not already there\n",
    "try:\n",
    "    romance_interactions_df.to_sql('bookgraph_romance_interactions',\n",
    "                                   conn, if_exists='fail', index=False)\n",
    "except ValueError:\n",
    "    print('Already in database.')"
   ]
  },
  {
   "cell_type": "code",
   "execution_count": 84,
   "id": "6764891e",
   "metadata": {},
   "outputs": [],
   "source": [
    "# Reset variables\n",
    "rom_dfs = None\n",
    "rom_df = None\n",
    "rom_chunk = None\n",
    "romance_interactions_df = None"
   ]
  }
 ],
 "metadata": {
  "kernelspec": {
   "display_name": "Python 3 (ipykernel)",
   "language": "python",
   "name": "python3"
  },
  "language_info": {
   "codemirror_mode": {
    "name": "ipython",
    "version": 3
   },
   "file_extension": ".py",
   "mimetype": "text/x-python",
   "name": "python",
   "nbconvert_exporter": "python",
   "pygments_lexer": "ipython3",
   "version": "3.9.13"
  },
  "toc": {
   "base_numbering": 1,
   "nav_menu": {},
   "number_sections": true,
   "sideBar": true,
   "skip_h1_title": false,
   "title_cell": "Table of Contents",
   "title_sidebar": "Contents",
   "toc_cell": false,
   "toc_position": {},
   "toc_section_display": true,
   "toc_window_display": false
  }
 },
 "nbformat": 4,
 "nbformat_minor": 5
}
