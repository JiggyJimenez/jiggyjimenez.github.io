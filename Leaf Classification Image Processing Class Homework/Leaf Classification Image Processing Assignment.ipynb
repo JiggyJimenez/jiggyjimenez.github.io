{
 "cells": [
  {
   "cell_type": "markdown",
   "metadata": {},
   "source": [
    "# Lecture 8 - Applications of Image Processing in Machine Learning"
   ]
  },
  {
   "cell_type": "markdown",
   "metadata": {},
   "source": [
    "---"
   ]
  },
  {
   "cell_type": "markdown",
   "metadata": {},
   "source": [
    "## Leaf Classification\n",
    "In the previous lectures, we discussed how to visualize, enhance, and extract information from images. We now apply the different algorithms that we have learned to create a leaf classification algorithm. Let's try it out. The file *leaves.zip* contains images of fives classes of leaves. We need to create a pipeline that would\n",
    "1. Read and clean the images\n",
    "1. Segment objects of interest\n",
    "1. Extract features from the objects\n",
    "1. Train an ML model\n",
    "\n",
    "Take note that each of the steps can affect the accuracy of our model. Prioritizing which step to update will rely on heuristics. Let's practice:\n",
    "\n",
    "#### Asynchronous Exercise:\n",
    "Create a machine learning pipeline and try to reach the highest accuracy possible. Make sure that you are able to answer the corresponding questions.\n",
    "1. Did you apply any data cleaning methods to prepare the images? If yes, what are these methods?\n",
    "1. What algorithms did you use to segment the different leaves? What worked best?\n",
    "1. What are the features that you have extracted from the leaves? What are the derived features that you have extracted? And what are the significant features in classifying each leaf?\n",
    "1. How does the limited number of samples affect your training?\n",
    "1. What machine learning algorithm did you use? What is your best performing algorithm?"
   ]
  },
  {
   "cell_type": "code",
   "execution_count": 1,
   "metadata": {
    "ExecuteTime": {
     "end_time": "2023-06-13T17:40:38.991800Z",
     "start_time": "2023-06-13T17:40:38.977513Z"
    }
   },
   "outputs": [],
   "source": [
    "import os\n",
    "os.environ['SKIMAGE_DATADIR'] = '/tmp/.skimage_cache'"
   ]
  },
  {
   "cell_type": "code",
   "execution_count": 28,
   "metadata": {
    "ExecuteTime": {
     "end_time": "2023-06-13T17:52:08.021879Z",
     "start_time": "2023-06-13T17:52:08.007578Z"
    }
   },
   "outputs": [],
   "source": [
    "import pandas as pd\n",
    "import numpy as np\n",
    "import matplotlib.pyplot as plt\n",
    "from skimage.io import imread\n",
    "from skimage.color import rgb2gray\n",
    "from skimage.filters import threshold_otsu\n",
    "from skimage.morphology import dilation, erosion, label\n",
    "from skimage.measure import regionprops\n",
    "from sklearn import mixture\n",
    "from sklearn.model_selection import train_test_split, StratifiedKFold\n",
    "from sklearn.pipeline import Pipeline\n",
    "from sklearn.preprocessing import RobustScaler\n",
    "from sklearn.neighbors import KNeighborsClassifier\n",
    "from sklearn.linear_model import LogisticRegression\n",
    "from sklearn.ensemble import RandomForestClassifier, GradientBoostingClassifier\n",
    "from sklearn.tree import DecisionTreeClassifier\n",
    "from xgboost import XGBClassifier\n",
    "from sklearn.metrics import accuracy_score\n",
    "from tqdm import tqdm\n",
    "import time\n",
    "import shap"
   ]
  },
  {
   "cell_type": "code",
   "execution_count": 29,
   "metadata": {
    "ExecuteTime": {
     "end_time": "2023-06-13T17:52:08.385401Z",
     "start_time": "2023-06-13T17:52:08.356826Z"
    }
   },
   "outputs": [],
   "source": [
    "def get_image_paths(directory):\n",
    "    files = os.listdir(directory)\n",
    "    return [file for file in files if file.endswith('.jpg')]\n",
    "\n",
    "def apply_multiple_dilations(image, num_dilations):\n",
    "    for _ in range(num_dilations):\n",
    "        image = dilation(image)\n",
    "    return image\n",
    "\n",
    "def apply_multiple_erosions(image, num_erosions):\n",
    "    for _ in range(num_erosions):\n",
    "        image = erosion(image)\n",
    "    return image\n",
    "\n",
    "def plot_image_comparison(image, threshold1, threshold2):\n",
    "    fig, ax = plt.subplots(1, 2)\n",
    "    ax[0].imshow(image < threshold1)\n",
    "    ax[1].imshow(image < threshold2)\n",
    "    fig.show()\n",
    "\n",
    "def extract_data(images, threshold=0.4, num_morphs=3, use_otsu=False, compare_segmentation=False):\n",
    "    extracted_data = {'perimeter': [], 'area': [], 'eccentricity': [], 'p/a': [], 'class': []}\n",
    "    for image in images:\n",
    "        _class = image[5]\n",
    "        leaves = rgb2gray(imread(image))\n",
    "        if use_otsu:\n",
    "            threshold = threshold_otsu(leaves)\n",
    "        binary_leaves = leaves < threshold\n",
    "        morphed_image = apply_multiple_erosions(apply_multiple_dilations(binary_leaves, num_morphs), num_morphs)\n",
    "        labelled = label(morphed_image)\n",
    "        props = regionprops(labelled)\n",
    "        for leaf in props:\n",
    "            p = leaf.perimeter\n",
    "            a = leaf.area\n",
    "            extracted_data['perimeter'].append(p)\n",
    "            extracted_data['area'].append(a)\n",
    "            extracted_data['eccentricity'].append(leaf.eccentricity)\n",
    "            extracted_data['p/a'].append(p/a)\n",
    "            extracted_data['class'].append(_class)\n",
    "        if compare_segmentation:\n",
    "            plot_image_comparison(leaves, 0.4, threshold_otsu(leaves))\n",
    "    if not compare_segmentation:\n",
    "        return pd.DataFrame(extracted_data)\n",
    "\n",
    "def remove_outliers(dataframe):\n",
    "    cleaned_dataframe = pd.DataFrame()\n",
    "    for idx, _class in enumerate(dataframe['class'].unique()):\n",
    "        X = dataframe[dataframe['class'] == _class]\n",
    "        target = X['class']\n",
    "        X = X.drop(columns='class')\n",
    "        model = mixture.GaussianMixture(n_components=2, covariance_type='full', random_state=0)\n",
    "        model.fit(X)\n",
    "        Y = X[model.predict(X) == 0]\n",
    "        Y.insert(4, \"class\", Y.area.apply(lambda x: idx), True)\n",
    "        cleaned_dataframe = pd.concat([cleaned_dataframe, Y])\n",
    "    return cleaned_dataframe\n",
    "    \n",
    "def split_dataframe(dataframe):\n",
    "    X, y = dataframe.drop('class', axis=1), dataframe['class']\n",
    "    return train_test_split(X, y, random_state=143, test_size=0.25, stratify=y)"
   ]
  },
  {
   "cell_type": "code",
   "execution_count": 30,
   "metadata": {
    "ExecuteTime": {
     "end_time": "2023-06-13T17:52:16.203935Z",
     "start_time": "2023-06-13T17:52:08.641529Z"
    }
   },
   "outputs": [
    {
     "data": {
      "text/html": [
       "<div>\n",
       "<style scoped>\n",
       "    .dataframe tbody tr th:only-of-type {\n",
       "        vertical-align: middle;\n",
       "    }\n",
       "\n",
       "    .dataframe tbody tr th {\n",
       "        vertical-align: top;\n",
       "    }\n",
       "\n",
       "    .dataframe thead th {\n",
       "        text-align: right;\n",
       "    }\n",
       "</style>\n",
       "<table border=\"1\" class=\"dataframe\">\n",
       "  <thead>\n",
       "    <tr style=\"text-align: right;\">\n",
       "      <th></th>\n",
       "      <th>perimeter</th>\n",
       "      <th>area</th>\n",
       "      <th>eccentricity</th>\n",
       "      <th>p/a</th>\n",
       "      <th>class</th>\n",
       "    </tr>\n",
       "  </thead>\n",
       "  <tbody>\n",
       "    <tr>\n",
       "      <th>0</th>\n",
       "      <td>1758.727922</td>\n",
       "      <td>2809.0</td>\n",
       "      <td>0.999994</td>\n",
       "      <td>0.626105</td>\n",
       "      <td>A</td>\n",
       "    </tr>\n",
       "    <tr>\n",
       "      <th>1</th>\n",
       "      <td>1639.353426</td>\n",
       "      <td>80924.0</td>\n",
       "      <td>0.965815</td>\n",
       "      <td>0.020258</td>\n",
       "      <td>A</td>\n",
       "    </tr>\n",
       "    <tr>\n",
       "      <th>2</th>\n",
       "      <td>1515.358477</td>\n",
       "      <td>57477.0</td>\n",
       "      <td>0.977974</td>\n",
       "      <td>0.026365</td>\n",
       "      <td>A</td>\n",
       "    </tr>\n",
       "    <tr>\n",
       "      <th>3</th>\n",
       "      <td>1510.808225</td>\n",
       "      <td>59828.0</td>\n",
       "      <td>0.981172</td>\n",
       "      <td>0.025253</td>\n",
       "      <td>A</td>\n",
       "    </tr>\n",
       "    <tr>\n",
       "      <th>4</th>\n",
       "      <td>1291.009235</td>\n",
       "      <td>58057.0</td>\n",
       "      <td>0.970231</td>\n",
       "      <td>0.022237</td>\n",
       "      <td>A</td>\n",
       "    </tr>\n",
       "    <tr>\n",
       "      <th>...</th>\n",
       "      <td>...</td>\n",
       "      <td>...</td>\n",
       "      <td>...</td>\n",
       "      <td>...</td>\n",
       "      <td>...</td>\n",
       "    </tr>\n",
       "    <tr>\n",
       "      <th>315</th>\n",
       "      <td>310.592929</td>\n",
       "      <td>5857.0</td>\n",
       "      <td>0.821725</td>\n",
       "      <td>0.053029</td>\n",
       "      <td>E</td>\n",
       "    </tr>\n",
       "    <tr>\n",
       "      <th>316</th>\n",
       "      <td>250.994949</td>\n",
       "      <td>3673.0</td>\n",
       "      <td>0.865730</td>\n",
       "      <td>0.068335</td>\n",
       "      <td>E</td>\n",
       "    </tr>\n",
       "    <tr>\n",
       "      <th>317</th>\n",
       "      <td>345.220346</td>\n",
       "      <td>7030.0</td>\n",
       "      <td>0.853254</td>\n",
       "      <td>0.049107</td>\n",
       "      <td>E</td>\n",
       "    </tr>\n",
       "    <tr>\n",
       "      <th>318</th>\n",
       "      <td>256.793939</td>\n",
       "      <td>4132.0</td>\n",
       "      <td>0.828916</td>\n",
       "      <td>0.062148</td>\n",
       "      <td>E</td>\n",
       "    </tr>\n",
       "    <tr>\n",
       "      <th>319</th>\n",
       "      <td>0.000000</td>\n",
       "      <td>1.0</td>\n",
       "      <td>0.000000</td>\n",
       "      <td>0.000000</td>\n",
       "      <td>E</td>\n",
       "    </tr>\n",
       "  </tbody>\n",
       "</table>\n",
       "<p>320 rows × 5 columns</p>\n",
       "</div>"
      ],
      "text/plain": [
       "       perimeter     area  eccentricity       p/a class\n",
       "0    1758.727922   2809.0      0.999994  0.626105     A\n",
       "1    1639.353426  80924.0      0.965815  0.020258     A\n",
       "2    1515.358477  57477.0      0.977974  0.026365     A\n",
       "3    1510.808225  59828.0      0.981172  0.025253     A\n",
       "4    1291.009235  58057.0      0.970231  0.022237     A\n",
       "..           ...      ...           ...       ...   ...\n",
       "315   310.592929   5857.0      0.821725  0.053029     E\n",
       "316   250.994949   3673.0      0.865730  0.068335     E\n",
       "317   345.220346   7030.0      0.853254  0.049107     E\n",
       "318   256.793939   4132.0      0.828916  0.062148     E\n",
       "319     0.000000      1.0      0.000000  0.000000     E\n",
       "\n",
       "[320 rows x 5 columns]"
      ]
     },
     "execution_count": 30,
     "metadata": {},
     "output_type": "execute_result"
    }
   ],
   "source": [
    "directory_path = '.'\n",
    "image_paths = get_image_paths(directory_path)\n",
    "leaf_data_df = extract_data(image_paths)\n",
    "leaf_data_df"
   ]
  },
  {
   "cell_type": "code",
   "execution_count": 31,
   "metadata": {
    "ExecuteTime": {
     "end_time": "2023-06-13T17:52:17.034218Z",
     "start_time": "2023-06-13T17:52:16.206518Z"
    }
   },
   "outputs": [
    {
     "data": {
      "text/html": [
       "<div>\n",
       "<style scoped>\n",
       "    .dataframe tbody tr th:only-of-type {\n",
       "        vertical-align: middle;\n",
       "    }\n",
       "\n",
       "    .dataframe tbody tr th {\n",
       "        vertical-align: top;\n",
       "    }\n",
       "\n",
       "    .dataframe thead th {\n",
       "        text-align: right;\n",
       "    }\n",
       "</style>\n",
       "<table border=\"1\" class=\"dataframe\">\n",
       "  <thead>\n",
       "    <tr style=\"text-align: right;\">\n",
       "      <th></th>\n",
       "      <th>perimeter</th>\n",
       "      <th>area</th>\n",
       "      <th>eccentricity</th>\n",
       "      <th>p/a</th>\n",
       "      <th>class</th>\n",
       "    </tr>\n",
       "  </thead>\n",
       "  <tbody>\n",
       "    <tr>\n",
       "      <th>1</th>\n",
       "      <td>1639.353426</td>\n",
       "      <td>80924.0</td>\n",
       "      <td>0.965815</td>\n",
       "      <td>0.020258</td>\n",
       "      <td>0</td>\n",
       "    </tr>\n",
       "    <tr>\n",
       "      <th>2</th>\n",
       "      <td>1515.358477</td>\n",
       "      <td>57477.0</td>\n",
       "      <td>0.977974</td>\n",
       "      <td>0.026365</td>\n",
       "      <td>0</td>\n",
       "    </tr>\n",
       "    <tr>\n",
       "      <th>3</th>\n",
       "      <td>1510.808225</td>\n",
       "      <td>59828.0</td>\n",
       "      <td>0.981172</td>\n",
       "      <td>0.025253</td>\n",
       "      <td>0</td>\n",
       "    </tr>\n",
       "    <tr>\n",
       "      <th>4</th>\n",
       "      <td>1291.009235</td>\n",
       "      <td>58057.0</td>\n",
       "      <td>0.970231</td>\n",
       "      <td>0.022237</td>\n",
       "      <td>0</td>\n",
       "    </tr>\n",
       "    <tr>\n",
       "      <th>7</th>\n",
       "      <td>1900.496608</td>\n",
       "      <td>86573.0</td>\n",
       "      <td>0.978808</td>\n",
       "      <td>0.021953</td>\n",
       "      <td>0</td>\n",
       "    </tr>\n",
       "    <tr>\n",
       "      <th>...</th>\n",
       "      <td>...</td>\n",
       "      <td>...</td>\n",
       "      <td>...</td>\n",
       "      <td>...</td>\n",
       "      <td>...</td>\n",
       "    </tr>\n",
       "    <tr>\n",
       "      <th>262</th>\n",
       "      <td>1754.828427</td>\n",
       "      <td>2629.0</td>\n",
       "      <td>0.999995</td>\n",
       "      <td>0.667489</td>\n",
       "      <td>4</td>\n",
       "    </tr>\n",
       "    <tr>\n",
       "      <th>278</th>\n",
       "      <td>0.000000</td>\n",
       "      <td>1.0</td>\n",
       "      <td>0.000000</td>\n",
       "      <td>0.000000</td>\n",
       "      <td>4</td>\n",
       "    </tr>\n",
       "    <tr>\n",
       "      <th>283</th>\n",
       "      <td>1752.000000</td>\n",
       "      <td>1752.0</td>\n",
       "      <td>0.999998</td>\n",
       "      <td>1.000000</td>\n",
       "      <td>4</td>\n",
       "    </tr>\n",
       "    <tr>\n",
       "      <th>284</th>\n",
       "      <td>0.000000</td>\n",
       "      <td>1.0</td>\n",
       "      <td>0.000000</td>\n",
       "      <td>0.000000</td>\n",
       "      <td>4</td>\n",
       "    </tr>\n",
       "    <tr>\n",
       "      <th>319</th>\n",
       "      <td>0.000000</td>\n",
       "      <td>1.0</td>\n",
       "      <td>0.000000</td>\n",
       "      <td>0.000000</td>\n",
       "      <td>4</td>\n",
       "    </tr>\n",
       "  </tbody>\n",
       "</table>\n",
       "<p>130 rows × 5 columns</p>\n",
       "</div>"
      ],
      "text/plain": [
       "       perimeter     area  eccentricity       p/a  class\n",
       "1    1639.353426  80924.0      0.965815  0.020258      0\n",
       "2    1515.358477  57477.0      0.977974  0.026365      0\n",
       "3    1510.808225  59828.0      0.981172  0.025253      0\n",
       "4    1291.009235  58057.0      0.970231  0.022237      0\n",
       "7    1900.496608  86573.0      0.978808  0.021953      0\n",
       "..           ...      ...           ...       ...    ...\n",
       "262  1754.828427   2629.0      0.999995  0.667489      4\n",
       "278     0.000000      1.0      0.000000  0.000000      4\n",
       "283  1752.000000   1752.0      0.999998  1.000000      4\n",
       "284     0.000000      1.0      0.000000  0.000000      4\n",
       "319     0.000000      1.0      0.000000  0.000000      4\n",
       "\n",
       "[130 rows x 5 columns]"
      ]
     },
     "execution_count": 31,
     "metadata": {},
     "output_type": "execute_result"
    }
   ],
   "source": [
    "cleaned_leaf_data_df = remove_outliers(leaf_data_df)\n",
    "cleaned_leaf_data_df"
   ]
  },
  {
   "cell_type": "code",
   "execution_count": 32,
   "metadata": {
    "ExecuteTime": {
     "end_time": "2023-06-13T17:52:28.407532Z",
     "start_time": "2023-06-13T17:52:28.392867Z"
    }
   },
   "outputs": [
    {
     "name": "stdout",
     "output_type": "stream",
     "text": [
      "PCC = 0.26769230769230773\n",
      "1.25 * PCC = 0.33461538461538465\n"
     ]
    }
   ],
   "source": [
    "class_counts = cleaned_leaf_data_df['class'].value_counts()\n",
    "pcc = sum((class_counts / class_counts.sum())**2)\n",
    "print(f'PCC = {pcc}')\n",
    "print(f'1.25 * PCC = {1.25 * pcc}')"
   ]
  },
  {
   "cell_type": "code",
   "execution_count": 33,
   "metadata": {
    "ExecuteTime": {
     "end_time": "2023-06-13T17:52:31.768681Z",
     "start_time": "2023-06-13T17:52:31.753765Z"
    }
   },
   "outputs": [],
   "source": [
    "# Split into trainval and holdout\n",
    "(X_trainval, X_holdout, y_trainval, y_holdout) = split_dataframe(cleaned_leaf_data_df)"
   ]
  },
  {
   "cell_type": "code",
   "execution_count": 34,
   "metadata": {
    "ExecuteTime": {
     "end_time": "2023-06-13T17:52:32.243480Z",
     "start_time": "2023-06-13T17:52:32.231747Z"
    }
   },
   "outputs": [],
   "source": [
    "models_dict = {\n",
    "    'KNeighborsClassifier': KNeighborsClassifier(),\n",
    "    'LogisticRegressor': LogisticRegression(),\n",
    "    'RandomForestClassifier': RandomForestClassifier(random_state=143),\n",
    "    'DecisionTreeClassifier': DecisionTreeClassifier(random_state=143),\n",
    "    'GradientBoostingClassifier': GradientBoostingClassifier(random_state=143),\n",
    "    'XGBoostClassifier': XGBClassifier(random_state=143)\n",
    "}"
   ]
  },
  {
   "cell_type": "code",
   "execution_count": 35,
   "metadata": {
    "ExecuteTime": {
     "end_time": "2023-06-13T17:52:32.800294Z",
     "start_time": "2023-06-13T17:52:32.793383Z"
    }
   },
   "outputs": [],
   "source": [
    "skf = StratifiedKFold(n_splits=5)\n",
    "results = {}"
   ]
  },
  {
   "cell_type": "code",
   "execution_count": 36,
   "metadata": {
    "ExecuteTime": {
     "end_time": "2023-06-13T17:52:34.678329Z",
     "start_time": "2023-06-13T17:52:34.671580Z"
    }
   },
   "outputs": [],
   "source": [
    "# Log start time\n",
    "total_start_time = time.time()"
   ]
  },
  {
   "cell_type": "code",
   "execution_count": 37,
   "metadata": {
    "ExecuteTime": {
     "end_time": "2023-06-13T17:53:01.941340Z",
     "start_time": "2023-06-13T17:52:35.333397Z"
    },
    "scrolled": true
   },
   "outputs": [
    {
     "name": "stderr",
     "output_type": "stream",
     "text": [
      "  0%|          | 0/6 [00:00<?, ?it/s]/opt/conda/lib/python3.10/site-packages/sklearn/model_selection/_split.py:700: UserWarning: The least populated class in y has only 4 members, which is less than n_splits=5.\n",
      "  warnings.warn(\n",
      "/opt/conda/lib/python3.10/site-packages/sklearn/model_selection/_split.py:700: UserWarning: The least populated class in y has only 4 members, which is less than n_splits=5.\n",
      "  warnings.warn(\n",
      " 33%|███▎      | 2/6 [00:00<00:00,  9.29it/s]/opt/conda/lib/python3.10/site-packages/sklearn/model_selection/_split.py:700: UserWarning: The least populated class in y has only 4 members, which is less than n_splits=5.\n",
      "  warnings.warn(\n",
      " 50%|█████     | 3/6 [00:01<00:01,  2.44it/s]/opt/conda/lib/python3.10/site-packages/sklearn/model_selection/_split.py:700: UserWarning: The least populated class in y has only 4 members, which is less than n_splits=5.\n",
      "  warnings.warn(\n",
      "/opt/conda/lib/python3.10/site-packages/sklearn/model_selection/_split.py:700: UserWarning: The least populated class in y has only 4 members, which is less than n_splits=5.\n",
      "  warnings.warn(\n",
      " 83%|████████▎ | 5/6 [00:03<00:00,  1.10it/s]/opt/conda/lib/python3.10/site-packages/sklearn/model_selection/_split.py:700: UserWarning: The least populated class in y has only 4 members, which is less than n_splits=5.\n",
      "  warnings.warn(\n",
      "100%|██████████| 6/6 [00:26<00:00,  4.41s/it]"
     ]
    },
    {
     "name": "stdout",
     "output_type": "stream",
     "text": [
      "Runtime: 27.24 seconds\n"
     ]
    },
    {
     "name": "stderr",
     "output_type": "stream",
     "text": [
      "\n"
     ]
    },
    {
     "data": {
      "text/html": [
       "<div>\n",
       "<style scoped>\n",
       "    .dataframe tbody tr th:only-of-type {\n",
       "        vertical-align: middle;\n",
       "    }\n",
       "\n",
       "    .dataframe tbody tr th {\n",
       "        vertical-align: top;\n",
       "    }\n",
       "\n",
       "    .dataframe thead th {\n",
       "        text-align: right;\n",
       "    }\n",
       "</style>\n",
       "<table border=\"1\" class=\"dataframe\">\n",
       "  <thead>\n",
       "    <tr style=\"text-align: right;\">\n",
       "      <th></th>\n",
       "      <th>average_train_accuracy</th>\n",
       "      <th>average_val_accuracy</th>\n",
       "      <th>run_time</th>\n",
       "    </tr>\n",
       "  </thead>\n",
       "  <tbody>\n",
       "    <tr>\n",
       "      <th>KNeighborsClassifier</th>\n",
       "      <td>85.054945</td>\n",
       "      <td>83.526316</td>\n",
       "      <td>0.011591</td>\n",
       "    </tr>\n",
       "    <tr>\n",
       "      <th>LogisticRegressor</th>\n",
       "      <td>77.835498</td>\n",
       "      <td>73.157895</td>\n",
       "      <td>0.031181</td>\n",
       "    </tr>\n",
       "    <tr>\n",
       "      <th>RandomForestClassifier</th>\n",
       "      <td>90.979021</td>\n",
       "      <td>81.526316</td>\n",
       "      <td>0.157276</td>\n",
       "    </tr>\n",
       "    <tr>\n",
       "      <th>DecisionTreeClassifier</th>\n",
       "      <td>90.979021</td>\n",
       "      <td>79.421053</td>\n",
       "      <td>0.006577</td>\n",
       "    </tr>\n",
       "    <tr>\n",
       "      <th>GradientBoostingClassifier</th>\n",
       "      <td>90.979021</td>\n",
       "      <td>81.473684</td>\n",
       "      <td>0.508969</td>\n",
       "    </tr>\n",
       "    <tr>\n",
       "      <th>XGBoostClassifier</th>\n",
       "      <td>90.979021</td>\n",
       "      <td>77.368421</td>\n",
       "      <td>3.498025</td>\n",
       "    </tr>\n",
       "  </tbody>\n",
       "</table>\n",
       "</div>"
      ],
      "text/plain": [
       "                            average_train_accuracy  average_val_accuracy  \\\n",
       "KNeighborsClassifier                     85.054945             83.526316   \n",
       "LogisticRegressor                        77.835498             73.157895   \n",
       "RandomForestClassifier                   90.979021             81.526316   \n",
       "DecisionTreeClassifier                   90.979021             79.421053   \n",
       "GradientBoostingClassifier               90.979021             81.473684   \n",
       "XGBoostClassifier                        90.979021             77.368421   \n",
       "\n",
       "                            run_time  \n",
       "KNeighborsClassifier        0.011591  \n",
       "LogisticRegressor           0.031181  \n",
       "RandomForestClassifier      0.157276  \n",
       "DecisionTreeClassifier      0.006577  \n",
       "GradientBoostingClassifier  0.508969  \n",
       "XGBoostClassifier           3.498025  "
      ]
     },
     "metadata": {},
     "output_type": "display_data"
    }
   ],
   "source": [
    "for model_name, model in tqdm(models_dict.items()):\n",
    "    train_acc_scores = []\n",
    "    val_acc_scores = []\n",
    "    for train_index, val_index in skf.split(X_trainval, y_trainval):\n",
    "        X_train, X_val = X_trainval.iloc[train_index], X_trainval.iloc[val_index]\n",
    "        y_train, y_val = y_trainval.iloc[train_index], y_trainval.iloc[val_index]\n",
    "        \n",
    "        start_time = time.time()  # for logging run times\n",
    "        pipeline = Pipeline([('Scaler', RobustScaler()), (model_name, model)])\n",
    "        pipeline.fit(X_train, y_train)\n",
    "        train_preds = pipeline.predict(X_train)\n",
    "        val_preds = pipeline.predict(X_val)\n",
    "        \n",
    "        train_acc_score = accuracy_score(y_train, train_preds)\n",
    "        val_acc_score = accuracy_score(y_val, val_preds)\n",
    "        end_time = time.time()  # for logging run times\n",
    "        \n",
    "        train_acc_scores.append(train_acc_score)\n",
    "        val_acc_scores.append(val_acc_score)\n",
    "        \n",
    "    results[model_name] = {\n",
    "        'average_train_accuracy': np.mean(train_acc_scores) * 100,\n",
    "        'average_val_accuracy': np.mean(val_acc_scores) * 100,\n",
    "        'run_time': end_time - start_time\n",
    "    }\n",
    "\n",
    "# Log end time\n",
    "total_end_time = time.time()\n",
    "\n",
    "elapsed_time = total_end_time - total_start_time\n",
    "print(f\"Runtime: {elapsed_time:.2f} seconds\")\n",
    "results_df = pd.DataFrame(results).T\n",
    "display(results_df)"
   ]
  },
  {
   "cell_type": "markdown",
   "metadata": {},
   "source": [
    "### Q1. Did you apply any data cleaning methods to prepare the images? If yes, what are these methods?\n",
    "\n",
    "Yes, data cleaning methods were applied to prepare the images using the extract_data function. The specific cleaning methods employed were as follows:\n",
    "\n",
    "- Binarizing the image: The images were converted into binary format by applying a threshold to separate foreground and background.\n",
    "- Dilate + Erode: Multiple dilation and erosion operations were performed on the binary image to eliminate small artifacts and refine the shape boundaries.\n",
    "- Labelling: The cleaned image was labeled to identify distinct regions or objects within the image.\n",
    "\n",
    "These data cleaning methods helped to enhance the quality and accuracy of the image data for further analysis and processing."
   ]
  },
  {
   "cell_type": "markdown",
   "metadata": {},
   "source": [
    "### Q2. What algorithms did you use to segment the different leaves? What worked best?\n",
    "For segmenting the different leaves, I employed two algorithms: manual thresholding and Otsu's method.\n",
    "\n",
    "Manual Thresholding: This algorithm involved selecting a specific threshold value manually to separate the foreground (leaves) from the background. The segmentation results using manual thresholding were visually evaluated.\n",
    "\n",
    "Otsu's Method: Otsu's method is an automatic thresholding algorithm that calculates an optimal threshold value based on the image histogram. This method aims to minimize the intra-class variance and maximize the inter-class variance, resulting in an optimal threshold for segmentation.\n",
    "\n",
    "After evaluating the segmentation results, it was observed that Otsu's method produced better-segmented images in terms of visual quality. However, it was found that using manual thresholding yielded better classification accuracy.\n",
    "\n",
    "Therefore, while Otsu's method provided improved visual segmentation, manual thresholding proved to be more effective for achieving higher accuracy in the classification of the segmented leaves."
   ]
  },
  {
   "cell_type": "markdown",
   "metadata": {},
   "source": [
    "### Q3. What are the features that you have extracted from the leaves? What are the derived features that you have extracted? And what are the significant features in classifying each leaf?\n",
    "\n",
    "The features extracted from the leaves are as follows:\n",
    "\n",
    "1. Perimeter: The perimeter represents the total length of the leaf boundary.\n",
    "2. Area: The area refers to the total surface area occupied by the leaf.\n",
    "3. Eccentricity: Eccentricity measures the elongation of the leaf shape, indicating how stretched or circular the leaf is.\n",
    "4. Perimeter/Area (derived): This derived feature is obtained by dividing the perimeter by the area, providing insights into the leaf's shape compactness.\n",
    "\n",
    "Among these features, the significant features in classifying each leaf may vary depending on the specific classification algorithm and dataset. However, typically, features such as area first and foremost and perimeter play a crucial role in distinguishing leaves based on their size and shape characteristics. Additionally, eccentricity can provide information about the elongation or roundness of the leaf, aiding in differentiation.\n",
    "\n",
    "It is important to note that the significance of features in leaf classification can vary based on the specific dataset, leaf species, and classification algorithm employed. Therefore, it is recommended to conduct further analysis and experimentation to identify the most influential features for accurate leaf classification."
   ]
  },
  {
   "cell_type": "code",
   "execution_count": 59,
   "metadata": {
    "ExecuteTime": {
     "end_time": "2023-06-13T18:52:34.940219Z",
     "start_time": "2023-06-13T18:52:32.898400Z"
    }
   },
   "outputs": [
    {
     "name": "stderr",
     "output_type": "stream",
     "text": [
      "The least populated class in y has only 4 members, which is less than n_splits=5.\n"
     ]
    },
    {
     "data": {
      "image/png": "[encoded data removed]",
      "text/plain": [
       "<Figure size 800x350 with 3 Axes>"
      ]
     },
     "metadata": {},
     "output_type": "display_data"
    }
   ],
   "source": [
    "for train_index, val_index in skf.split(X_trainval, y_trainval):\n",
    "    X_train, X_val = X_trainval.iloc[train_index], X_trainval.iloc[val_index]\n",
    "    y_train, y_val = y_trainval.iloc[train_index], y_trainval.iloc[val_index]\n",
    "    pipeline = Pipeline([('Scaler', RobustScaler()), \n",
    "                         ('RandomForestClassifier', RandomForestClassifier(random_state=143))])\n",
    "    pipeline.fit(X_train, y_train)\n",
    "    break\n",
    "\n",
    "shap_explainer = shap.Explainer(pipeline.predict_proba, X_trainval, \n",
    "                                feature_names=X_trainval.columns)\n",
    "shap_values = shap_explainer(X_holdout.iloc[:1000, :])\n",
    "shap_explanation = shap.Explanation(shap_values.values[:, :, 1],\n",
    "                                    shap_values.base_values[0][1],\n",
    "                                    shap_values.data,\n",
    "                                    feature_names=X_trainval.columns)\n",
    "\n",
    "shap.plots.waterfall(shap_explanation[0])"
   ]
  },
  {
   "cell_type": "code",
   "execution_count": 66,
   "metadata": {
    "ExecuteTime": {
     "end_time": "2023-06-13T18:58:34.472923Z",
     "start_time": "2023-06-13T18:58:33.940927Z"
    }
   },
   "outputs": [
    {
     "name": "stderr",
     "output_type": "stream",
     "text": [
      "The least populated class in y has only 4 members, which is less than n_splits=5.\n"
     ]
    },
    {
     "data": {
      "image/png": "[encoded data removed]",
      "text/plain": [
       "<Figure size 800x350 with 3 Axes>"
      ]
     },
     "metadata": {},
     "output_type": "display_data"
    }
   ],
   "source": [
    "for train_index, val_index in skf.split(X_trainval, y_trainval):\n",
    "    X_train, X_val = X_trainval.iloc[train_index], X_trainval.iloc[val_index]\n",
    "    y_train, y_val = y_trainval.iloc[train_index], y_trainval.iloc[val_index]\n",
    "    pipeline = Pipeline([('Scaler', RobustScaler()), \n",
    "                         ('DecisionTreeClassifier', DecisionTreeClassifier(random_state=143))])\n",
    "    pipeline.fit(X_train, y_train)\n",
    "    break\n",
    "\n",
    "shap_explainer = shap.Explainer(pipeline.predict_proba, X_trainval, \n",
    "                                feature_names=X_trainval.columns)\n",
    "shap_values = shap_explainer(X_holdout.iloc[:1000, :])\n",
    "shap_explanation = shap.Explanation(shap_values.values[:, :, 1],\n",
    "                                    shap_values.base_values[0][1],\n",
    "                                    shap_values.data,\n",
    "                                    feature_names=X_trainval.columns)\n",
    "\n",
    "shap.plots.waterfall(shap_explanation[0])"
   ]
  },
  {
   "cell_type": "code",
   "execution_count": 67,
   "metadata": {
    "ExecuteTime": {
     "end_time": "2023-06-13T18:59:12.649001Z",
     "start_time": "2023-06-13T18:59:11.279690Z"
    }
   },
   "outputs": [
    {
     "name": "stderr",
     "output_type": "stream",
     "text": [
      "The least populated class in y has only 4 members, which is less than n_splits=5.\n"
     ]
    },
    {
     "data": {
      "image/png": "[encoded data removed]",
      "text/plain": [
       "<Figure size 800x350 with 3 Axes>"
      ]
     },
     "metadata": {},
     "output_type": "display_data"
    }
   ],
   "source": [
    "for train_index, val_index in skf.split(X_trainval, y_trainval):\n",
    "    X_train, X_val = X_trainval.iloc[train_index], X_trainval.iloc[val_index]\n",
    "    y_train, y_val = y_trainval.iloc[train_index], y_trainval.iloc[val_index]\n",
    "    pipeline = Pipeline([('Scaler', RobustScaler()), \n",
    "                         ('GradientBoostingClassifier', GradientBoostingClassifier(random_state=143))])\n",
    "    pipeline.fit(X_train, y_train)\n",
    "    break\n",
    "\n",
    "shap_explainer = shap.Explainer(pipeline.predict_proba, X_trainval, \n",
    "                                feature_names=X_trainval.columns)\n",
    "shap_values = shap_explainer(X_holdout.iloc[:1000, :])\n",
    "shap_explanation = shap.Explanation(shap_values.values[:, :, 1],\n",
    "                                    shap_values.base_values[0][1],\n",
    "                                    shap_values.data,\n",
    "                                    feature_names=X_trainval.columns)\n",
    "\n",
    "shap.plots.waterfall(shap_explanation[0])"
   ]
  },
  {
   "cell_type": "code",
   "execution_count": 69,
   "metadata": {
    "ExecuteTime": {
     "end_time": "2023-06-13T18:59:39.600431Z",
     "start_time": "2023-06-13T18:59:35.918498Z"
    }
   },
   "outputs": [
    {
     "name": "stderr",
     "output_type": "stream",
     "text": [
      "The least populated class in y has only 4 members, which is less than n_splits=5.\n"
     ]
    },
    {
     "data": {
      "image/png": "[encoded data removed]",
      "text/plain": [
       "<Figure size 800x350 with 3 Axes>"
      ]
     },
     "metadata": {},
     "output_type": "display_data"
    }
   ],
   "source": [
    "for train_index, val_index in skf.split(X_trainval, y_trainval):\n",
    "    X_train, X_val = X_trainval.iloc[train_index], X_trainval.iloc[val_index]\n",
    "    y_train, y_val = y_trainval.iloc[train_index], y_trainval.iloc[val_index]\n",
    "    pipeline = Pipeline([('Scaler', RobustScaler()), \n",
    "                         ('XGBoostClassifier', XGBClassifier(random_state=143))])\n",
    "    pipeline.fit(X_train, y_train)\n",
    "    break\n",
    "\n",
    "shap_explainer = shap.Explainer(pipeline.predict_proba, X_trainval, \n",
    "                                feature_names=X_trainval.columns)\n",
    "shap_values = shap_explainer(X_holdout.iloc[:1000, :])\n",
    "shap_explanation = shap.Explanation(shap_values.values[:, :, 1],\n",
    "                                    shap_values.base_values[0][1],\n",
    "                                    shap_values.data,\n",
    "                                    feature_names=X_trainval.columns)\n",
    "\n",
    "shap.plots.waterfall(shap_explanation[0])"
   ]
  },
  {
   "cell_type": "markdown",
   "metadata": {},
   "source": [
    "### Q4. How does the limited number of samples affect your training?\n",
    "The limited number of samples can have several impacts on the training process:\n",
    "\n",
    "Overfitting: With a small number of samples, there is a higher risk of overfitting, where the model becomes too specialized to the training data and fails to generalize well to unseen data. Overfitting can occur when the model tries to memorize the limited samples rather than learning meaningful patterns.\n",
    "\n",
    "Bias and Variance: Limited samples can lead to biased or high-variance models. Bias occurs when the model is unable to capture the true underlying patterns due to insufficient data. Variance arises when the model's performance varies significantly when trained on different subsets of the limited data.\n",
    "\n",
    "Generalization: Limited samples may limit the model's ability to generalize to unseen data. The model might not encounter a diverse range of examples and fail to learn robust representations of the data distribution.\n",
    "\n",
    "To mitigate the effects of limited samples, some strategies include:\n",
    "\n",
    "Data Augmentation: Generating additional training samples by applying transformations or perturbations to the existing data.\n",
    "Regularization: Employing regularization techniques, such as L1 or L2 regularization, to prevent overfitting.\n",
    "Ensemble Learning: Building multiple models on different subsets of the data and combining their predictions to improve performance and reduce variance.\n",
    "Transfer Learning: Leveraging pre-trained models on larger datasets and fine-tuning them on the limited samples."
   ]
  },
  {
   "cell_type": "markdown",
   "metadata": {},
   "source": [
    "### Q5. What machine learning algorithm did you use? What is your best performing algorithm?\n",
    "\n",
    "As far as train accuracy goes, it's a tie between Random Forest, Decision Trees, XGBoost and Gradient Boosting at `90.979021`. KNN however wins with validation accuracy with `83.526316`. With runtimes, Decision Trees did best with `0.006577`.\n",
    "\n",
    "I would personally give the nod to Random Forest since it seems to be the most well-rounded one."
   ]
  }
 ],
 "metadata": {
  "kernelspec": {
   "display_name": "Python 3 (ipykernel)",
   "language": "python",
   "name": "python3"
  },
  "language_info": {
   "codemirror_mode": {
    "name": "ipython",
    "version": 3
   },
   "file_extension": ".py",
   "mimetype": "text/x-python",
   "name": "python",
   "nbconvert_exporter": "python",
   "pygments_lexer": "ipython3",
   "version": "3.9.12"
  }
 },
 "nbformat": 4,
 "nbformat_minor": 2
}
